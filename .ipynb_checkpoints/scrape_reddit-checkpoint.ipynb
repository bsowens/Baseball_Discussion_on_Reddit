{
 "cells": [
  {
   "cell_type": "code",
   "execution_count": 80,
   "metadata": {
    "collapsed": true
   },
   "outputs": [
    {
     "name": "stdout",
     "output_type": "stream",
     "text": [
      "Enter date to start checking:\n",
      " (default 01/01/2015)\n",
      "\n",
      "User input: \n",
      "Enter number of days to check: [>2] \n",
      "(Default 30)\n",
      "User input: 365\n",
      "Requesting Data \n",
      "Checking day: 2015-01-01 00:00:00\n"
     ]
    },
    {
     "name": "stderr",
     "output_type": "stream",
     "text": [
      "Total processed submissions: 0\n",
      "Total processed submissions: 0\n",
      "Total processed submissions: 4\n",
      "Total processed submissions: 7\n",
      "Total processed submissions: 11\n",
      "Total processed submissions: 14\n",
      "Total processed submissions: 19\n"
     ]
    },
    {
     "name": "stdout",
     "output_type": "stream",
     "text": [
      "Checking day: 2015-01-02 00:00:00\n"
     ]
    },
    {
     "name": "stderr",
     "output_type": "stream",
     "text": [
      "Total processed submissions: 0\n",
      "Total processed submissions: 0\n",
      "Total processed submissions: 2\n",
      "Total processed submissions: 6\n",
      "Total processed submissions: 16\n",
      "Total processed submissions: 24\n",
      "Total processed submissions: 31\n"
     ]
    },
    {
     "name": "stdout",
     "output_type": "stream",
     "text": [
      "Checking day: 2015-01-03 00:00:00\n"
     ]
    },
    {
     "name": "stderr",
     "output_type": "stream",
     "text": [
      "Total processed submissions: 0\n",
      "Total processed submissions: 0\n",
      "Total processed submissions: 4\n",
      "Total processed submissions: 6\n",
      "Total processed submissions: 16\n",
      "Total processed submissions: 21\n",
      "Total processed submissions: 25\n"
     ]
    },
    {
     "name": "stdout",
     "output_type": "stream",
     "text": [
      "Checking day: 2015-01-04 00:00:00\n"
     ]
    },
    {
     "name": "stderr",
     "output_type": "stream",
     "text": [
      "Total processed submissions: 0\n",
      "Total processed submissions: 0\n",
      "Total processed submissions: 3\n",
      "Total processed submissions: 7\n",
      "Total processed submissions: 16\n",
      "Total processed submissions: 25\n",
      "Total processed submissions: 29\n"
     ]
    },
    {
     "name": "stdout",
     "output_type": "stream",
     "text": [
      "Checking day: 2015-01-05 00:00:00\n"
     ]
    },
    {
     "name": "stderr",
     "output_type": "stream",
     "text": [
      "Total processed submissions: 0\n",
      "Total processed submissions: 0\n",
      "Total processed submissions: 4\n",
      "Total processed submissions: 17\n",
      "Total processed submissions: 32\n",
      "Total processed submissions: 45\n",
      "Total processed submissions: 50\n"
     ]
    },
    {
     "name": "stdout",
     "output_type": "stream",
     "text": [
      "Checking day: 2015-01-06 00:00:00\n"
     ]
    },
    {
     "name": "stderr",
     "output_type": "stream",
     "text": [
      "Total processed submissions: 0\n",
      "Total processed submissions: 0\n",
      "Total processed submissions: 3\n",
      "Total processed submissions: 19\n",
      "Total processed submissions: 44\n",
      "Total processed submissions: 67\n",
      "Total processed submissions: 72\n"
     ]
    },
    {
     "name": "stdout",
     "output_type": "stream",
     "text": [
      "Checking day: 2015-01-07 00:00:00\n"
     ]
    },
    {
     "name": "stderr",
     "output_type": "stream",
     "text": [
      "Total processed submissions: 0\n",
      "Total processed submissions: 2\n",
      "Total processed submissions: 11\n",
      "Total processed submissions: 21\n",
      "Total processed submissions: 42\n",
      "Total processed submissions: 63\n",
      "Total processed submissions: 68\n"
     ]
    },
    {
     "name": "stdout",
     "output_type": "stream",
     "text": [
      "Checking day: 2015-01-08 00:00:00\n"
     ]
    },
    {
     "name": "stderr",
     "output_type": "stream",
     "text": [
      "Total processed submissions: 0\n",
      "Total processed submissions: 0\n",
      "Total processed submissions: 7\n",
      "Total processed submissions: 13\n",
      "Total processed submissions: 28\n",
      "Total processed submissions: 41\n",
      "Total processed submissions: 48\n"
     ]
    },
    {
     "name": "stdout",
     "output_type": "stream",
     "text": [
      "Checking day: 2015-01-09 00:00:00\n"
     ]
    },
    {
     "name": "stderr",
     "output_type": "stream",
     "text": [
      "Total processed submissions: 0\n",
      "Total processed submissions: 0\n",
      "Total processed submissions: 5\n",
      "Total processed submissions: 13\n",
      "Total processed submissions: 32\n",
      "Total processed submissions: 51\n",
      "Total processed submissions: 58\n"
     ]
    },
    {
     "name": "stdout",
     "output_type": "stream",
     "text": [
      "Checking day: 2015-01-10 00:00:00\n"
     ]
    },
    {
     "name": "stderr",
     "output_type": "stream",
     "text": [
      "Total processed submissions: 0\n",
      "Total processed submissions: 1\n",
      "Total processed submissions: 3\n",
      "Total processed submissions: 9\n",
      "Total processed submissions: 17\n",
      "Total processed submissions: 34\n",
      "Total processed submissions: 37\n"
     ]
    },
    {
     "name": "stdout",
     "output_type": "stream",
     "text": [
      "Checking day: 2015-01-11 00:00:00\n"
     ]
    },
    {
     "name": "stderr",
     "output_type": "stream",
     "text": [
      "Total processed submissions: 0\n",
      "Total processed submissions: 0\n",
      "Total processed submissions: 3\n",
      "Total processed submissions: 13\n",
      "Total processed submissions: 26\n",
      "Total processed submissions: 34\n",
      "Total processed submissions: 36\n"
     ]
    },
    {
     "name": "stdout",
     "output_type": "stream",
     "text": [
      "Checking day: 2015-01-12 00:00:00\n"
     ]
    },
    {
     "name": "stderr",
     "output_type": "stream",
     "text": [
      "Total processed submissions: 0\n",
      "Total processed submissions: 1\n",
      "Total processed submissions: 5\n",
      "Total processed submissions: 19\n",
      "Total processed submissions: 46\n",
      "Total processed submissions: 60\n",
      "Total processed submissions: 62\n"
     ]
    },
    {
     "name": "stdout",
     "output_type": "stream",
     "text": [
      "Checking day: 2015-01-13 00:00:00\n"
     ]
    },
    {
     "name": "stderr",
     "output_type": "stream",
     "text": [
      "Total processed submissions: 0\n",
      "Total processed submissions: 1\n",
      "Total processed submissions: 8\n",
      "Total processed submissions: 29\n",
      "Total processed submissions: 69\n",
      "Total processed submissions: 117\n",
      "Total processed submissions: 125\n"
     ]
    },
    {
     "name": "stdout",
     "output_type": "stream",
     "text": [
      "Checking day: 2015-01-14 00:00:00\n"
     ]
    },
    {
     "name": "stderr",
     "output_type": "stream",
     "text": [
      "Total processed submissions: 0\n",
      "Total processed submissions: 1\n",
      "Total processed submissions: 3\n",
      "Total processed submissions: 13\n",
      "Total processed submissions: 34\n",
      "Total processed submissions: 46\n",
      "Total processed submissions: 61\n"
     ]
    },
    {
     "name": "stdout",
     "output_type": "stream",
     "text": [
      "Checking day: 2015-01-15 00:00:00\n"
     ]
    },
    {
     "name": "stderr",
     "output_type": "stream",
     "text": [
      "Total processed submissions: 0\n",
      "Total processed submissions: 1\n",
      "Total processed submissions: 8\n",
      "Total processed submissions: 18\n",
      "Total processed submissions: 50\n",
      "Total processed submissions: 93\n",
      "Total processed submissions: 98\n"
     ]
    },
    {
     "name": "stdout",
     "output_type": "stream",
     "text": [
      "Checking day: 2015-01-16 00:00:00\n"
     ]
    },
    {
     "name": "stderr",
     "output_type": "stream",
     "text": [
      "Total processed submissions: 0\n",
      "Total processed submissions: 0\n",
      "Total processed submissions: 3\n",
      "Total processed submissions: 9\n",
      "Total processed submissions: 37\n",
      "Total processed submissions: 57\n",
      "Total processed submissions: 59\n"
     ]
    },
    {
     "name": "stdout",
     "output_type": "stream",
     "text": [
      "Checking day: 2015-01-17 00:00:00\n"
     ]
    },
    {
     "name": "stderr",
     "output_type": "stream",
     "text": [
      "Total processed submissions: 0\n",
      "Total processed submissions: 1\n",
      "Total processed submissions: 4\n",
      "Total processed submissions: 9\n",
      "Total processed submissions: 19\n",
      "Total processed submissions: 28\n",
      "Total processed submissions: 31\n"
     ]
    },
    {
     "name": "stdout",
     "output_type": "stream",
     "text": [
      "Checking day: 2015-01-18 00:00:00\n"
     ]
    },
    {
     "name": "stderr",
     "output_type": "stream",
     "text": [
      "Total processed submissions: 0\n",
      "Total processed submissions: 0\n",
      "Total processed submissions: 6\n",
      "Total processed submissions: 14\n",
      "Total processed submissions: 31\n",
      "Total processed submissions: 45\n",
      "Total processed submissions: 49\n"
     ]
    },
    {
     "name": "stdout",
     "output_type": "stream",
     "text": [
      "Checking day: 2015-01-19 00:00:00\n"
     ]
    },
    {
     "name": "stderr",
     "output_type": "stream",
     "text": [
      "Total processed submissions: 0\n",
      "Total processed submissions: 2\n",
      "Total processed submissions: 7\n",
      "Total processed submissions: 18\n",
      "Total processed submissions: 37\n",
      "Total processed submissions: 87\n",
      "Total processed submissions: 94\n",
      "Total processed submissions: 94\n"
     ]
    },
    {
     "name": "stdout",
     "output_type": "stream",
     "text": [
      "Checking day: 2015-01-20 00:00:00\n"
     ]
    },
    {
     "name": "stderr",
     "output_type": "stream",
     "text": [
      "Total processed submissions: 0\n",
      "Total processed submissions: 0\n",
      "Total processed submissions: 5\n",
      "Total processed submissions: 13\n",
      "Total processed submissions: 22\n",
      "Total processed submissions: 45\n",
      "Total processed submissions: 48\n"
     ]
    },
    {
     "name": "stdout",
     "output_type": "stream",
     "text": [
      "Checking day: 2015-01-21 00:00:00\n"
     ]
    },
    {
     "name": "stderr",
     "output_type": "stream",
     "text": [
      "Total processed submissions: 0\n",
      "Total processed submissions: 0\n",
      "Total processed submissions: 4\n",
      "Total processed submissions: 11\n",
      "Total processed submissions: 19\n",
      "Total processed submissions: 40\n",
      "Total processed submissions: 48\n"
     ]
    },
    {
     "name": "stdout",
     "output_type": "stream",
     "text": [
      "Checking day: 2015-01-22 00:00:00\n"
     ]
    },
    {
     "name": "stderr",
     "output_type": "stream",
     "text": [
      "Total processed submissions: 0\n",
      "Total processed submissions: 0\n",
      "Total processed submissions: 5\n",
      "Total processed submissions: 14\n",
      "Total processed submissions: 28\n",
      "Total processed submissions: 52\n",
      "Total processed submissions: 57\n"
     ]
    },
    {
     "name": "stdout",
     "output_type": "stream",
     "text": [
      "Checking day: 2015-01-23 00:00:00\n"
     ]
    },
    {
     "name": "stderr",
     "output_type": "stream",
     "text": [
      "Total processed submissions: 0\n",
      "Total processed submissions: 1\n",
      "Total processed submissions: 5\n",
      "Total processed submissions: 15\n",
      "Total processed submissions: 25\n",
      "Total processed submissions: 43\n",
      "Total processed submissions: 51\n"
     ]
    },
    {
     "name": "stdout",
     "output_type": "stream",
     "text": [
      "Checking day: 2015-01-24 00:00:00\n"
     ]
    },
    {
     "name": "stderr",
     "output_type": "stream",
     "text": [
      "Total processed submissions: 0\n",
      "Total processed submissions: 1\n",
      "Total processed submissions: 8\n",
      "Total processed submissions: 16\n",
      "Total processed submissions: 26\n",
      "Total processed submissions: 32\n",
      "Total processed submissions: 35\n"
     ]
    },
    {
     "name": "stdout",
     "output_type": "stream",
     "text": [
      "Checking day: 2015-01-25 00:00:00\n"
     ]
    },
    {
     "name": "stderr",
     "output_type": "stream",
     "text": [
      "Total processed submissions: 0\n",
      "Total processed submissions: 0\n",
      "Total processed submissions: 1\n",
      "Total processed submissions: 10\n",
      "Total processed submissions: 21\n",
      "Total processed submissions: 33\n",
      "Total processed submissions: 34\n"
     ]
    },
    {
     "name": "stdout",
     "output_type": "stream",
     "text": [
      "Checking day: 2015-01-26 00:00:00\n"
     ]
    },
    {
     "name": "stderr",
     "output_type": "stream",
     "text": [
      "Total processed submissions: 0\n",
      "Total processed submissions: 0\n",
      "Total processed submissions: 8\n",
      "Total processed submissions: 15\n",
      "Total processed submissions: 28\n",
      "Total processed submissions: 49\n",
      "Total processed submissions: 52\n"
     ]
    },
    {
     "name": "stdout",
     "output_type": "stream",
     "text": [
      "Checking day: 2015-01-27 00:00:00\n"
     ]
    },
    {
     "name": "stderr",
     "output_type": "stream",
     "text": [
      "Total processed submissions: 0\n",
      "Total processed submissions: 2\n",
      "Total processed submissions: 8\n",
      "Total processed submissions: 12\n",
      "Total processed submissions: 32\n",
      "Total processed submissions: 55\n",
      "Total processed submissions: 60\n"
     ]
    },
    {
     "name": "stdout",
     "output_type": "stream",
     "text": [
      "Checking day: 2015-01-28 00:00:00\n"
     ]
    },
    {
     "name": "stderr",
     "output_type": "stream",
     "text": [
      "Total processed submissions: 0\n",
      "Total processed submissions: 1\n",
      "Total processed submissions: 7\n",
      "Total processed submissions: 11\n",
      "Total processed submissions: 29\n",
      "Total processed submissions: 48\n",
      "Total processed submissions: 51\n"
     ]
    },
    {
     "name": "stdout",
     "output_type": "stream",
     "text": [
      "Checking day: 2015-01-29 00:00:00\n"
     ]
    },
    {
     "name": "stderr",
     "output_type": "stream",
     "text": [
      "Total processed submissions: 0\n",
      "Total processed submissions: 1\n",
      "Total processed submissions: 1\n",
      "Total processed submissions: 6\n",
      "Total processed submissions: 23\n",
      "Total processed submissions: 39\n",
      "Total processed submissions: 45\n"
     ]
    },
    {
     "name": "stdout",
     "output_type": "stream",
     "text": [
      "Checking day: 2015-01-30 00:00:00\n"
     ]
    },
    {
     "name": "stderr",
     "output_type": "stream",
     "text": [
      "Total processed submissions: 0\n",
      "Total processed submissions: 0\n",
      "Total processed submissions: 1\n",
      "Total processed submissions: 3\n",
      "Total processed submissions: 17\n",
      "Total processed submissions: 31\n",
      "Total processed submissions: 34\n"
     ]
    },
    {
     "name": "stdout",
     "output_type": "stream",
     "text": [
      "Checking day: 2015-01-31 00:00:00\n"
     ]
    },
    {
     "name": "stderr",
     "output_type": "stream",
     "text": [
      "Total processed submissions: 0\n",
      "Total processed submissions: 0\n",
      "Total processed submissions: 4\n",
      "Total processed submissions: 12\n",
      "Total processed submissions: 22\n",
      "Total processed submissions: 30\n",
      "Total processed submissions: 34\n"
     ]
    },
    {
     "name": "stdout",
     "output_type": "stream",
     "text": [
      "Checking day: 2015-02-01 00:00:00\n"
     ]
    },
    {
     "name": "stderr",
     "output_type": "stream",
     "text": [
      "Total processed submissions: 0\n",
      "Total processed submissions: 0\n",
      "Total processed submissions: 3\n",
      "Total processed submissions: 8\n",
      "Total processed submissions: 16\n",
      "Total processed submissions: 25\n",
      "Total processed submissions: 32\n"
     ]
    },
    {
     "name": "stdout",
     "output_type": "stream",
     "text": [
      "Checking day: 2015-02-02 00:00:00\n"
     ]
    },
    {
     "name": "stderr",
     "output_type": "stream",
     "text": [
      "Total processed submissions: 0\n",
      "Total processed submissions: 0\n",
      "Total processed submissions: 9\n",
      "Total processed submissions: 16\n",
      "Total processed submissions: 35\n",
      "Total processed submissions: 53\n",
      "Total processed submissions: 58\n"
     ]
    },
    {
     "name": "stdout",
     "output_type": "stream",
     "text": [
      "Checking day: 2015-02-03 00:00:00\n"
     ]
    },
    {
     "name": "stderr",
     "output_type": "stream",
     "text": [
      "Total processed submissions: 0\n",
      "Total processed submissions: 0\n",
      "Total processed submissions: 3\n",
      "Total processed submissions: 11\n",
      "Total processed submissions: 34\n",
      "Total processed submissions: 55\n",
      "Total processed submissions: 64\n"
     ]
    },
    {
     "name": "stdout",
     "output_type": "stream",
     "text": [
      "Checking day: 2015-02-04 00:00:00\n"
     ]
    },
    {
     "name": "stderr",
     "output_type": "stream",
     "text": [
      "Total processed submissions: 0\n",
      "Total processed submissions: 0\n",
      "Total processed submissions: 3\n",
      "Total processed submissions: 16\n",
      "Total processed submissions: 29\n",
      "Total processed submissions: 46\n",
      "Total processed submissions: 51\n"
     ]
    },
    {
     "name": "stdout",
     "output_type": "stream",
     "text": [
      "Checking day: 2015-02-05 00:00:00\n"
     ]
    },
    {
     "name": "stderr",
     "output_type": "stream",
     "text": [
      "Total processed submissions: 0\n",
      "Total processed submissions: 2\n",
      "Total processed submissions: 6\n",
      "Total processed submissions: 19\n",
      "Total processed submissions: 31\n",
      "Total processed submissions: 55\n",
      "Total processed submissions: 59\n"
     ]
    },
    {
     "name": "stdout",
     "output_type": "stream",
     "text": [
      "Checking day: 2015-02-06 00:00:00\n"
     ]
    },
    {
     "name": "stderr",
     "output_type": "stream",
     "text": [
      "Total processed submissions: 0\n",
      "Total processed submissions: 0\n",
      "Total processed submissions: 6\n",
      "Total processed submissions: 13\n",
      "Total processed submissions: 29\n",
      "Total processed submissions: 49\n",
      "Total processed submissions: 54\n"
     ]
    },
    {
     "name": "stdout",
     "output_type": "stream",
     "text": [
      "Checking day: 2015-02-07 00:00:00\n"
     ]
    },
    {
     "name": "stderr",
     "output_type": "stream",
     "text": [
      "Total processed submissions: 0\n",
      "Total processed submissions: 0\n",
      "Total processed submissions: 2\n",
      "Total processed submissions: 10\n",
      "Total processed submissions: 30\n",
      "Total processed submissions: 41\n",
      "Total processed submissions: 45\n"
     ]
    },
    {
     "name": "stdout",
     "output_type": "stream",
     "text": [
      "Checking day: 2015-02-08 00:00:00\n"
     ]
    },
    {
     "name": "stderr",
     "output_type": "stream",
     "text": [
      "Total processed submissions: 0\n",
      "Total processed submissions: 0\n",
      "Total processed submissions: 3\n",
      "Total processed submissions: 10\n",
      "Total processed submissions: 22\n",
      "Total processed submissions: 31\n",
      "Total processed submissions: 36\n"
     ]
    },
    {
     "name": "stdout",
     "output_type": "stream",
     "text": [
      "Checking day: 2015-02-09 00:00:00\n"
     ]
    },
    {
     "name": "stderr",
     "output_type": "stream",
     "text": [
      "Total processed submissions: 0\n",
      "Total processed submissions: 2\n",
      "Total processed submissions: 6\n",
      "Total processed submissions: 20\n",
      "Total processed submissions: 38\n",
      "Total processed submissions: 60\n",
      "Total processed submissions: 65\n"
     ]
    },
    {
     "name": "stdout",
     "output_type": "stream",
     "text": [
      "Checking day: 2015-02-10 00:00:00\n"
     ]
    },
    {
     "name": "stderr",
     "output_type": "stream",
     "text": [
      "Total processed submissions: 0\n",
      "Total processed submissions: 1\n",
      "Total processed submissions: 8\n",
      "Total processed submissions: 21\n",
      "Total processed submissions: 51\n",
      "Total processed submissions: 88\n",
      "Total processed submissions: 120\n"
     ]
    },
    {
     "name": "stdout",
     "output_type": "stream",
     "text": [
      "Checking day: 2015-02-11 00:00:00\n"
     ]
    },
    {
     "name": "stderr",
     "output_type": "stream",
     "text": [
      "Total processed submissions: 0\n",
      "Total processed submissions: 0\n",
      "Total processed submissions: 4\n",
      "Total processed submissions: 11\n",
      "Total processed submissions: 24\n",
      "Total processed submissions: 43\n",
      "Total processed submissions: 50\n"
     ]
    },
    {
     "name": "stdout",
     "output_type": "stream",
     "text": [
      "Checking day: 2015-02-12 00:00:00\n"
     ]
    },
    {
     "name": "stderr",
     "output_type": "stream",
     "text": [
      "Total processed submissions: 0\n",
      "Total processed submissions: 0\n",
      "Total processed submissions: 2\n",
      "Total processed submissions: 21\n",
      "Total processed submissions: 37\n",
      "Total processed submissions: 59\n",
      "Total processed submissions: 66\n"
     ]
    },
    {
     "name": "stdout",
     "output_type": "stream",
     "text": [
      "Checking day: 2015-02-13 00:00:00\n"
     ]
    },
    {
     "name": "stderr",
     "output_type": "stream",
     "text": [
      "Total processed submissions: 0\n",
      "Total processed submissions: 0\n",
      "Total processed submissions: 2\n",
      "Total processed submissions: 10\n",
      "Total processed submissions: 35\n",
      "Total processed submissions: 61\n",
      "Total processed submissions: 95\n"
     ]
    },
    {
     "name": "stdout",
     "output_type": "stream",
     "text": [
      "Checking day: 2015-02-14 00:00:00\n"
     ]
    },
    {
     "name": "stderr",
     "output_type": "stream",
     "text": [
      "Total processed submissions: 0\n",
      "Total processed submissions: 1\n",
      "Total processed submissions: 4\n",
      "Total processed submissions: 9\n",
      "Total processed submissions: 16\n",
      "Total processed submissions: 26\n",
      "Total processed submissions: 28\n"
     ]
    },
    {
     "name": "stdout",
     "output_type": "stream",
     "text": [
      "Checking day: 2015-02-15 00:00:00\n"
     ]
    },
    {
     "name": "stderr",
     "output_type": "stream",
     "text": [
      "Total processed submissions: 0\n",
      "Total processed submissions: 0\n",
      "Total processed submissions: 1\n",
      "Total processed submissions: 6\n",
      "Total processed submissions: 16\n",
      "Total processed submissions: 28\n",
      "Total processed submissions: 30\n"
     ]
    },
    {
     "name": "stdout",
     "output_type": "stream",
     "text": [
      "Checking day: 2015-02-16 00:00:00\n"
     ]
    },
    {
     "name": "stderr",
     "output_type": "stream",
     "text": [
      "Total processed submissions: 0\n",
      "Total processed submissions: 1\n",
      "Total processed submissions: 13\n",
      "Total processed submissions: 21\n",
      "Total processed submissions: 46\n",
      "Total processed submissions: 59\n",
      "Total processed submissions: 63\n"
     ]
    },
    {
     "name": "stdout",
     "output_type": "stream",
     "text": [
      "Checking day: 2015-02-17 00:00:00\n"
     ]
    },
    {
     "name": "stderr",
     "output_type": "stream",
     "text": [
      "Total processed submissions: 0\n",
      "Total processed submissions: 1\n",
      "Total processed submissions: 7\n",
      "Total processed submissions: 22\n",
      "Total processed submissions: 42\n",
      "Total processed submissions: 64\n",
      "Total processed submissions: 74\n"
     ]
    },
    {
     "name": "stdout",
     "output_type": "stream",
     "text": [
      "Checking day: 2015-02-18 00:00:00\n"
     ]
    },
    {
     "name": "stderr",
     "output_type": "stream",
     "text": [
      "Total processed submissions: 0\n",
      "Total processed submissions: 2\n",
      "Total processed submissions: 11\n",
      "Total processed submissions: 23\n",
      "Total processed submissions: 62\n",
      "Total processed submissions: 122\n",
      "Total processed submissions: 130\n",
      "Total processed submissions: 130\n"
     ]
    },
    {
     "name": "stdout",
     "output_type": "stream",
     "text": [
      "Checking day: 2015-02-19 00:00:00\n"
     ]
    },
    {
     "name": "stderr",
     "output_type": "stream",
     "text": [
      "Total processed submissions: 0\n",
      "Total processed submissions: 0\n",
      "Total processed submissions: 4\n",
      "Total processed submissions: 15\n",
      "Total processed submissions: 35\n",
      "Total processed submissions: 59\n",
      "Total processed submissions: 62\n"
     ]
    },
    {
     "name": "stdout",
     "output_type": "stream",
     "text": [
      "Checking day: 2015-02-20 00:00:00\n"
     ]
    },
    {
     "name": "stderr",
     "output_type": "stream",
     "text": [
      "Total processed submissions: 0\n",
      "Total processed submissions: 1\n",
      "Total processed submissions: 9\n",
      "Total processed submissions: 15\n",
      "Total processed submissions: 33\n",
      "Total processed submissions: 92\n",
      "Total processed submissions: 102\n",
      "Total processed submissions: 102\n"
     ]
    },
    {
     "name": "stdout",
     "output_type": "stream",
     "text": [
      "Checking day: 2015-02-21 00:00:00\n"
     ]
    },
    {
     "name": "stderr",
     "output_type": "stream",
     "text": [
      "Total processed submissions: 0\n",
      "Total processed submissions: 1\n",
      "Total processed submissions: 5\n",
      "Total processed submissions: 11\n",
      "Total processed submissions: 18\n",
      "Total processed submissions: 27\n",
      "Total processed submissions: 29\n"
     ]
    },
    {
     "name": "stdout",
     "output_type": "stream",
     "text": [
      "Checking day: 2015-02-22 00:00:00\n"
     ]
    },
    {
     "name": "stderr",
     "output_type": "stream",
     "text": [
      "Total processed submissions: 0\n",
      "Total processed submissions: 0\n",
      "Total processed submissions: 0\n",
      "Total processed submissions: 8\n",
      "Total processed submissions: 21\n",
      "Total processed submissions: 33\n",
      "Total processed submissions: 35\n"
     ]
    },
    {
     "name": "stdout",
     "output_type": "stream",
     "text": [
      "Checking day: 2015-02-23 00:00:00\n"
     ]
    },
    {
     "name": "stderr",
     "output_type": "stream",
     "text": [
      "Total processed submissions: 0\n",
      "Total processed submissions: 0\n",
      "Total processed submissions: 6\n",
      "Total processed submissions: 22\n",
      "Total processed submissions: 47\n",
      "Total processed submissions: 65\n",
      "Total processed submissions: 72\n"
     ]
    },
    {
     "name": "stdout",
     "output_type": "stream",
     "text": [
      "Checking day: 2015-02-24 00:00:00\n"
     ]
    },
    {
     "name": "stderr",
     "output_type": "stream",
     "text": [
      "Total processed submissions: 0\n",
      "Total processed submissions: 1\n",
      "Total processed submissions: 5\n",
      "Total processed submissions: 24\n",
      "Total processed submissions: 59\n",
      "Total processed submissions: 129\n",
      "Total processed submissions: 136\n",
      "Total processed submissions: 136\n"
     ]
    },
    {
     "name": "stdout",
     "output_type": "stream",
     "text": [
      "Checking day: 2015-02-25 00:00:00\n"
     ]
    },
    {
     "name": "stderr",
     "output_type": "stream",
     "text": [
      "Total processed submissions: 0\n",
      "Total processed submissions: 1\n",
      "Total processed submissions: 4\n",
      "Total processed submissions: 9\n",
      "Total processed submissions: 26\n",
      "Total processed submissions: 46\n",
      "Total processed submissions: 46\n"
     ]
    },
    {
     "name": "stdout",
     "output_type": "stream",
     "text": [
      "Checking day: 2015-02-26 00:00:00\n"
     ]
    },
    {
     "name": "stderr",
     "output_type": "stream",
     "text": [
      "Total processed submissions: 0\n",
      "Total processed submissions: 1\n",
      "Total processed submissions: 7\n",
      "Total processed submissions: 17\n",
      "Total processed submissions: 30\n",
      "Total processed submissions: 59\n",
      "Total processed submissions: 63\n"
     ]
    },
    {
     "name": "stdout",
     "output_type": "stream",
     "text": [
      "Checking day: 2015-02-27 00:00:00\n"
     ]
    },
    {
     "name": "stderr",
     "output_type": "stream",
     "text": [
      "Total processed submissions: 0\n",
      "Total processed submissions: 0\n",
      "Total processed submissions: 8\n",
      "Total processed submissions: 15\n",
      "Total processed submissions: 45\n",
      "Total processed submissions: 92\n",
      "Total processed submissions: 98\n"
     ]
    },
    {
     "name": "stdout",
     "output_type": "stream",
     "text": [
      "Checking day: 2015-02-28 00:00:00\n"
     ]
    },
    {
     "name": "stderr",
     "output_type": "stream",
     "text": [
      "Total processed submissions: 0\n",
      "Total processed submissions: 0\n",
      "Total processed submissions: 4\n",
      "Total processed submissions: 13\n",
      "Total processed submissions: 28\n",
      "Total processed submissions: 40\n",
      "Total processed submissions: 44\n"
     ]
    },
    {
     "name": "stdout",
     "output_type": "stream",
     "text": [
      "Checking day: 2015-03-01 00:00:00\n"
     ]
    },
    {
     "name": "stderr",
     "output_type": "stream",
     "text": [
      "Total processed submissions: 0\n",
      "Total processed submissions: 0\n",
      "Total processed submissions: 1\n",
      "Total processed submissions: 6\n",
      "Total processed submissions: 15\n",
      "Total processed submissions: 34\n",
      "Total processed submissions: 38\n"
     ]
    },
    {
     "name": "stdout",
     "output_type": "stream",
     "text": [
      "Checking day: 2015-03-02 00:00:00\n"
     ]
    },
    {
     "name": "stderr",
     "output_type": "stream",
     "text": [
      "Total processed submissions: 0\n",
      "Total processed submissions: 0\n",
      "Total processed submissions: 5\n",
      "Total processed submissions: 13\n",
      "Total processed submissions: 29\n",
      "Total processed submissions: 48\n",
      "Total processed submissions: 53\n"
     ]
    },
    {
     "name": "stdout",
     "output_type": "stream",
     "text": [
      "Checking day: 2015-03-03 00:00:00\n"
     ]
    },
    {
     "name": "stderr",
     "output_type": "stream",
     "text": [
      "Total processed submissions: 0\n",
      "Total processed submissions: 0\n",
      "Total processed submissions: 8\n",
      "Total processed submissions: 14\n",
      "Total processed submissions: 53\n",
      "Total processed submissions: 118\n",
      "Total processed submissions: 136\n",
      "Total processed submissions: 136\n"
     ]
    },
    {
     "name": "stdout",
     "output_type": "stream",
     "text": [
      "Checking day: 2015-03-04 00:00:00\n"
     ]
    },
    {
     "name": "stderr",
     "output_type": "stream",
     "text": [
      "Total processed submissions: 0\n",
      "Total processed submissions: 1\n",
      "Total processed submissions: 8\n",
      "Total processed submissions: 12\n",
      "Total processed submissions: 23\n",
      "Total processed submissions: 41\n",
      "Total processed submissions: 49\n"
     ]
    },
    {
     "name": "stdout",
     "output_type": "stream",
     "text": [
      "Checking day: 2015-03-05 00:00:00\n"
     ]
    },
    {
     "name": "stderr",
     "output_type": "stream",
     "text": [
      "Total processed submissions: 0\n",
      "Total processed submissions: 1\n",
      "Total processed submissions: 3\n",
      "Total processed submissions: 12\n",
      "Total processed submissions: 34\n",
      "Total processed submissions: 59\n",
      "Total processed submissions: 64\n"
     ]
    },
    {
     "name": "stdout",
     "output_type": "stream",
     "text": [
      "Checking day: 2015-03-06 00:00:00\n"
     ]
    },
    {
     "name": "stderr",
     "output_type": "stream",
     "text": [
      "Total processed submissions: 0\n",
      "Total processed submissions: 1\n",
      "Total processed submissions: 8\n",
      "Total processed submissions: 17\n",
      "Total processed submissions: 34\n",
      "Total processed submissions: 98\n",
      "Total processed submissions: 114\n",
      "Total processed submissions: 114\n"
     ]
    },
    {
     "name": "stdout",
     "output_type": "stream",
     "text": [
      "Checking day: 2015-03-07 00:00:00\n"
     ]
    },
    {
     "name": "stderr",
     "output_type": "stream",
     "text": [
      "Total processed submissions: 0\n",
      "Total processed submissions: 1\n",
      "Total processed submissions: 2\n",
      "Total processed submissions: 8\n",
      "Total processed submissions: 17\n",
      "Total processed submissions: 27\n",
      "Total processed submissions: 36\n"
     ]
    },
    {
     "name": "stdout",
     "output_type": "stream",
     "text": [
      "Checking day: 2015-03-08 00:00:00\n"
     ]
    },
    {
     "name": "stderr",
     "output_type": "stream",
     "text": [
      "Total processed submissions: 0\n",
      "Total processed submissions: 0\n",
      "Total processed submissions: 2\n",
      "Total processed submissions: 10\n",
      "Total processed submissions: 21\n",
      "Total processed submissions: 35\n",
      "Total processed submissions: 38\n"
     ]
    },
    {
     "name": "stdout",
     "output_type": "stream",
     "text": [
      "Checking day: 2015-03-09 01:00:00\n"
     ]
    },
    {
     "name": "stderr",
     "output_type": "stream",
     "text": [
      "Total processed submissions: 0\n",
      "Total processed submissions: 0\n",
      "Total processed submissions: 4\n",
      "Total processed submissions: 9\n",
      "Total processed submissions: 28\n",
      "Total processed submissions: 53\n",
      "Total processed submissions: 56\n"
     ]
    },
    {
     "name": "stdout",
     "output_type": "stream",
     "text": [
      "Checking day: 2015-03-10 01:00:00\n"
     ]
    },
    {
     "name": "stderr",
     "output_type": "stream",
     "text": [
      "Total processed submissions: 0\n",
      "Total processed submissions: 3\n",
      "Total processed submissions: 9\n",
      "Total processed submissions: 13\n",
      "Total processed submissions: 26\n",
      "Total processed submissions: 54\n",
      "Total processed submissions: 59\n"
     ]
    },
    {
     "name": "stdout",
     "output_type": "stream",
     "text": [
      "Checking day: 2015-03-11 01:00:00\n"
     ]
    },
    {
     "name": "stderr",
     "output_type": "stream",
     "text": [
      "Total processed submissions: 0\n",
      "Total processed submissions: 0\n",
      "Total processed submissions: 0\n",
      "Total processed submissions: 8\n",
      "Total processed submissions: 23\n",
      "Total processed submissions: 45\n",
      "Total processed submissions: 48\n"
     ]
    },
    {
     "name": "stdout",
     "output_type": "stream",
     "text": [
      "Checking day: 2015-03-12 01:00:00\n"
     ]
    },
    {
     "name": "stderr",
     "output_type": "stream",
     "text": [
      "Total processed submissions: 0\n",
      "Total processed submissions: 1\n",
      "Total processed submissions: 11\n",
      "Total processed submissions: 20\n",
      "Total processed submissions: 42\n",
      "Total processed submissions: 60\n",
      "Total processed submissions: 64\n"
     ]
    },
    {
     "name": "stdout",
     "output_type": "stream",
     "text": [
      "Checking day: 2015-03-13 01:00:00\n"
     ]
    },
    {
     "name": "stderr",
     "output_type": "stream",
     "text": [
      "Total processed submissions: 0\n",
      "Total processed submissions: 0\n",
      "Total processed submissions: 3\n",
      "Total processed submissions: 7\n",
      "Total processed submissions: 26\n",
      "Total processed submissions: 55\n",
      "Total processed submissions: 58\n"
     ]
    },
    {
     "name": "stdout",
     "output_type": "stream",
     "text": [
      "Checking day: 2015-03-14 01:00:00\n"
     ]
    },
    {
     "name": "stderr",
     "output_type": "stream",
     "text": [
      "Total processed submissions: 0\n",
      "Total processed submissions: 0\n",
      "Total processed submissions: 3\n",
      "Total processed submissions: 5\n",
      "Total processed submissions: 11\n",
      "Total processed submissions: 20\n",
      "Total processed submissions: 21\n"
     ]
    },
    {
     "name": "stdout",
     "output_type": "stream",
     "text": [
      "Checking day: 2015-03-15 01:00:00\n"
     ]
    },
    {
     "name": "stderr",
     "output_type": "stream",
     "text": [
      "Total processed submissions: 0\n",
      "Total processed submissions: 0\n",
      "Total processed submissions: 5\n",
      "Total processed submissions: 9\n",
      "Total processed submissions: 16\n",
      "Total processed submissions: 28\n",
      "Total processed submissions: 35\n"
     ]
    },
    {
     "name": "stdout",
     "output_type": "stream",
     "text": [
      "Checking day: 2015-03-16 01:00:00\n"
     ]
    },
    {
     "name": "stderr",
     "output_type": "stream",
     "text": [
      "Total processed submissions: 0\n",
      "Total processed submissions: 0\n",
      "Total processed submissions: 7\n",
      "Total processed submissions: 13\n",
      "Total processed submissions: 26\n",
      "Total processed submissions: 49\n",
      "Total processed submissions: 49\n"
     ]
    },
    {
     "name": "stdout",
     "output_type": "stream",
     "text": [
      "Checking day: 2015-03-17 01:00:00\n"
     ]
    },
    {
     "name": "stderr",
     "output_type": "stream",
     "text": [
      "Total processed submissions: 0\n",
      "Total processed submissions: 0\n",
      "Total processed submissions: 6\n",
      "Total processed submissions: 11\n",
      "Total processed submissions: 29\n",
      "Total processed submissions: 44\n",
      "Total processed submissions: 44\n"
     ]
    },
    {
     "name": "stdout",
     "output_type": "stream",
     "text": [
      "Checking day: 2015-03-18 01:00:00\n"
     ]
    },
    {
     "name": "stderr",
     "output_type": "stream",
     "text": [
      "Total processed submissions: 0\n",
      "Total processed submissions: 0\n",
      "Total processed submissions: 3\n",
      "Total processed submissions: 12\n",
      "Total processed submissions: 23\n",
      "Total processed submissions: 49\n",
      "Total processed submissions: 52\n"
     ]
    },
    {
     "name": "stdout",
     "output_type": "stream",
     "text": [
      "Checking day: 2015-03-19 01:00:00\n"
     ]
    },
    {
     "name": "stderr",
     "output_type": "stream",
     "text": [
      "Total processed submissions: 0\n",
      "Total processed submissions: 1\n",
      "Total processed submissions: 4\n",
      "Total processed submissions: 12\n",
      "Total processed submissions: 25\n",
      "Total processed submissions: 43\n",
      "Total processed submissions: 47\n"
     ]
    },
    {
     "name": "stdout",
     "output_type": "stream",
     "text": [
      "Checking day: 2015-03-20 01:00:00\n"
     ]
    },
    {
     "name": "stderr",
     "output_type": "stream",
     "text": [
      "Total processed submissions: 0\n",
      "Total processed submissions: 1\n",
      "Total processed submissions: 4\n",
      "Total processed submissions: 10\n",
      "Total processed submissions: 22\n",
      "Total processed submissions: 38\n",
      "Total processed submissions: 43\n"
     ]
    },
    {
     "name": "stdout",
     "output_type": "stream",
     "text": [
      "Checking day: 2015-03-21 01:00:00\n"
     ]
    },
    {
     "name": "stderr",
     "output_type": "stream",
     "text": [
      "Total processed submissions: 0\n",
      "Total processed submissions: 1\n",
      "Total processed submissions: 5\n",
      "Total processed submissions: 9\n",
      "Total processed submissions: 18\n",
      "Total processed submissions: 27\n",
      "Total processed submissions: 30\n"
     ]
    },
    {
     "name": "stdout",
     "output_type": "stream",
     "text": [
      "Checking day: 2015-03-22 01:00:00\n"
     ]
    },
    {
     "name": "stderr",
     "output_type": "stream",
     "text": [
      "Total processed submissions: 0\n",
      "Total processed submissions: 1\n",
      "Total processed submissions: 3\n",
      "Total processed submissions: 7\n",
      "Total processed submissions: 14\n",
      "Total processed submissions: 30\n",
      "Total processed submissions: 33\n"
     ]
    },
    {
     "name": "stdout",
     "output_type": "stream",
     "text": [
      "Checking day: 2015-03-23 01:00:00\n"
     ]
    },
    {
     "name": "stderr",
     "output_type": "stream",
     "text": [
      "Total processed submissions: 0\n",
      "Total processed submissions: 2\n",
      "Total processed submissions: 5\n",
      "Total processed submissions: 11\n",
      "Total processed submissions: 26\n",
      "Total processed submissions: 50\n",
      "Total processed submissions: 53\n"
     ]
    },
    {
     "name": "stdout",
     "output_type": "stream",
     "text": [
      "Checking day: 2015-03-24 01:00:00\n"
     ]
    },
    {
     "name": "stderr",
     "output_type": "stream",
     "text": [
      "Total processed submissions: 0\n",
      "Total processed submissions: 0\n",
      "Total processed submissions: 7\n",
      "Total processed submissions: 14\n",
      "Total processed submissions: 35\n",
      "Total processed submissions: 64\n",
      "Total processed submissions: 69\n"
     ]
    },
    {
     "name": "stdout",
     "output_type": "stream",
     "text": [
      "Checking day: 2015-03-25 01:00:00\n"
     ]
    },
    {
     "name": "stderr",
     "output_type": "stream",
     "text": [
      "Total processed submissions: 0\n",
      "Total processed submissions: 0\n",
      "Total processed submissions: 5\n",
      "Total processed submissions: 14\n",
      "Total processed submissions: 34\n",
      "Total processed submissions: 60\n",
      "Total processed submissions: 67\n"
     ]
    },
    {
     "name": "stdout",
     "output_type": "stream",
     "text": [
      "Checking day: 2015-03-26 01:00:00\n"
     ]
    },
    {
     "name": "stderr",
     "output_type": "stream",
     "text": [
      "Total processed submissions: 0\n",
      "Total processed submissions: 0\n",
      "Total processed submissions: 6\n",
      "Total processed submissions: 18\n",
      "Total processed submissions: 40\n",
      "Total processed submissions: 66\n",
      "Total processed submissions: 71\n"
     ]
    },
    {
     "name": "stdout",
     "output_type": "stream",
     "text": [
      "Checking day: 2015-03-27 01:00:00\n"
     ]
    },
    {
     "name": "stderr",
     "output_type": "stream",
     "text": [
      "Total processed submissions: 0\n",
      "Total processed submissions: 0\n",
      "Total processed submissions: 4\n",
      "Total processed submissions: 15\n",
      "Total processed submissions: 34\n",
      "Total processed submissions: 57\n",
      "Total processed submissions: 60\n"
     ]
    },
    {
     "name": "stdout",
     "output_type": "stream",
     "text": [
      "Checking day: 2015-03-28 01:00:00\n"
     ]
    },
    {
     "name": "stderr",
     "output_type": "stream",
     "text": [
      "Total processed submissions: 0\n",
      "Total processed submissions: 0\n",
      "Total processed submissions: 5\n",
      "Total processed submissions: 12\n",
      "Total processed submissions: 22\n",
      "Total processed submissions: 38\n",
      "Total processed submissions: 42\n"
     ]
    },
    {
     "name": "stdout",
     "output_type": "stream",
     "text": [
      "Checking day: 2015-03-29 01:00:00\n"
     ]
    },
    {
     "name": "stderr",
     "output_type": "stream",
     "text": [
      "Total processed submissions: 0\n",
      "Total processed submissions: 1\n",
      "Total processed submissions: 6\n",
      "Total processed submissions: 14\n",
      "Total processed submissions: 27\n",
      "Total processed submissions: 38\n",
      "Total processed submissions: 44\n"
     ]
    },
    {
     "name": "stdout",
     "output_type": "stream",
     "text": [
      "Checking day: 2015-03-30 01:00:00\n"
     ]
    },
    {
     "name": "stderr",
     "output_type": "stream",
     "text": [
      "Total processed submissions: 0\n",
      "Total processed submissions: 0\n",
      "Total processed submissions: 4\n",
      "Total processed submissions: 15\n",
      "Total processed submissions: 41\n",
      "Total processed submissions: 65\n",
      "Total processed submissions: 69\n"
     ]
    },
    {
     "name": "stdout",
     "output_type": "stream",
     "text": [
      "Checking day: 2015-03-31 01:00:00\n"
     ]
    },
    {
     "name": "stderr",
     "output_type": "stream",
     "text": [
      "Total processed submissions: 0\n",
      "Total processed submissions: 0\n",
      "Total processed submissions: 5\n",
      "Total processed submissions: 14\n",
      "Total processed submissions: 38\n",
      "Total processed submissions: 65\n",
      "Total processed submissions: 68\n"
     ]
    },
    {
     "name": "stdout",
     "output_type": "stream",
     "text": [
      "Checking day: 2015-04-01 01:00:00\n"
     ]
    },
    {
     "name": "stderr",
     "output_type": "stream",
     "text": [
      "Total processed submissions: 0\n",
      "Total processed submissions: 1\n",
      "Total processed submissions: 5\n",
      "Total processed submissions: 10\n",
      "Total processed submissions: 31\n",
      "Total processed submissions: 72\n",
      "Total processed submissions: 80\n"
     ]
    },
    {
     "name": "stdout",
     "output_type": "stream",
     "text": [
      "Checking day: 2015-04-02 01:00:00\n"
     ]
    },
    {
     "name": "stderr",
     "output_type": "stream",
     "text": [
      "Total processed submissions: 0\n",
      "Total processed submissions: 1\n",
      "Total processed submissions: 4\n",
      "Total processed submissions: 15\n",
      "Total processed submissions: 41\n",
      "Total processed submissions: 67\n",
      "Total processed submissions: 72\n"
     ]
    },
    {
     "name": "stdout",
     "output_type": "stream",
     "text": [
      "Checking day: 2015-04-03 01:00:00\n"
     ]
    },
    {
     "name": "stderr",
     "output_type": "stream",
     "text": [
      "Total processed submissions: 0\n",
      "Total processed submissions: 2\n",
      "Total processed submissions: 11\n",
      "Total processed submissions: 21\n",
      "Total processed submissions: 42\n",
      "Total processed submissions: 81\n",
      "Total processed submissions: 84\n"
     ]
    },
    {
     "name": "stdout",
     "output_type": "stream",
     "text": [
      "Checking day: 2015-04-04 01:00:00\n"
     ]
    },
    {
     "name": "stderr",
     "output_type": "stream",
     "text": [
      "Total processed submissions: 0\n",
      "Total processed submissions: 0\n",
      "Total processed submissions: 4\n",
      "Total processed submissions: 19\n",
      "Total processed submissions: 29\n",
      "Total processed submissions: 51\n",
      "Total processed submissions: 59\n"
     ]
    },
    {
     "name": "stdout",
     "output_type": "stream",
     "text": [
      "Checking day: 2015-04-05 01:00:00\n"
     ]
    },
    {
     "name": "stderr",
     "output_type": "stream",
     "text": [
      "Total processed submissions: 0\n",
      "Total processed submissions: 2\n",
      "Total processed submissions: 10\n",
      "Total processed submissions: 24\n",
      "Total processed submissions: 57\n",
      "Total processed submissions: 83\n",
      "Total processed submissions: 89\n"
     ]
    },
    {
     "name": "stdout",
     "output_type": "stream",
     "text": [
      "Checking day: 2015-04-06 01:00:00\n"
     ]
    },
    {
     "name": "stderr",
     "output_type": "stream",
     "text": [
      "Total processed submissions: 0\n",
      "Total processed submissions: 2\n",
      "Total processed submissions: 11\n",
      "Total processed submissions: 30\n",
      "Total processed submissions: 85\n",
      "Total processed submissions: 144\n",
      "Total processed submissions: 155\n",
      "Total processed submissions: 160\n",
      "Total processed submissions: 160\n"
     ]
    },
    {
     "name": "stdout",
     "output_type": "stream",
     "text": [
      "Checking day: 2015-04-07 01:00:00\n"
     ]
    },
    {
     "name": "stderr",
     "output_type": "stream",
     "text": [
      "Total processed submissions: 0\n",
      "Total processed submissions: 0\n",
      "Total processed submissions: 10\n",
      "Total processed submissions: 25\n",
      "Total processed submissions: 43\n",
      "Total processed submissions: 82\n",
      "Total processed submissions: 93\n"
     ]
    },
    {
     "name": "stdout",
     "output_type": "stream",
     "text": [
      "Checking day: 2015-04-08 01:00:00\n"
     ]
    },
    {
     "name": "stderr",
     "output_type": "stream",
     "text": [
      "Total processed submissions: 0\n",
      "Total processed submissions: 0\n",
      "Total processed submissions: 14\n",
      "Total processed submissions: 29\n",
      "Total processed submissions: 55\n",
      "Total processed submissions: 86\n",
      "Total processed submissions: 91\n"
     ]
    },
    {
     "name": "stdout",
     "output_type": "stream",
     "text": [
      "Checking day: 2015-04-09 01:00:00\n"
     ]
    },
    {
     "name": "stderr",
     "output_type": "stream",
     "text": [
      "Total processed submissions: 0\n",
      "Total processed submissions: 1\n",
      "Total processed submissions: 7\n",
      "Total processed submissions: 30\n",
      "Total processed submissions: 68\n",
      "Total processed submissions: 114\n",
      "Total processed submissions: 124\n"
     ]
    },
    {
     "name": "stdout",
     "output_type": "stream",
     "text": [
      "Checking day: 2015-04-10 01:00:00\n"
     ]
    },
    {
     "name": "stderr",
     "output_type": "stream",
     "text": [
      "Total processed submissions: 0\n",
      "Total processed submissions: 3\n",
      "Total processed submissions: 24\n",
      "Total processed submissions: 44\n",
      "Total processed submissions: 72\n",
      "Total processed submissions: 101\n",
      "Total processed submissions: 104\n"
     ]
    },
    {
     "name": "stdout",
     "output_type": "stream",
     "text": [
      "Checking day: 2015-04-11 01:00:00\n"
     ]
    },
    {
     "name": "stderr",
     "output_type": "stream",
     "text": [
      "Total processed submissions: 0\n",
      "Total processed submissions: 1\n",
      "Total processed submissions: 9\n",
      "Total processed submissions: 30\n",
      "Total processed submissions: 41\n",
      "Total processed submissions: 68\n",
      "Total processed submissions: 78\n"
     ]
    },
    {
     "name": "stdout",
     "output_type": "stream",
     "text": [
      "Checking day: 2015-04-12 01:00:00\n"
     ]
    },
    {
     "name": "stderr",
     "output_type": "stream",
     "text": [
      "Total processed submissions: 0\n",
      "Total processed submissions: 0\n",
      "Total processed submissions: 9\n",
      "Total processed submissions: 18\n",
      "Total processed submissions: 50\n",
      "Total processed submissions: 72\n",
      "Total processed submissions: 80\n"
     ]
    },
    {
     "name": "stdout",
     "output_type": "stream",
     "text": [
      "Checking day: 2015-04-13 01:00:00\n"
     ]
    },
    {
     "name": "stderr",
     "output_type": "stream",
     "text": [
      "Total processed submissions: 0\n",
      "Total processed submissions: 0\n",
      "Total processed submissions: 13\n",
      "Total processed submissions: 28\n",
      "Total processed submissions: 54\n",
      "Total processed submissions: 90\n",
      "Total processed submissions: 92\n"
     ]
    },
    {
     "name": "stdout",
     "output_type": "stream",
     "text": [
      "Checking day: 2015-04-14 01:00:00\n"
     ]
    },
    {
     "name": "stderr",
     "output_type": "stream",
     "text": [
      "Total processed submissions: 0\n",
      "Total processed submissions: 0\n",
      "Total processed submissions: 11\n",
      "Total processed submissions: 33\n",
      "Total processed submissions: 53\n",
      "Total processed submissions: 86\n",
      "Total processed submissions: 90\n"
     ]
    },
    {
     "name": "stdout",
     "output_type": "stream",
     "text": [
      "Checking day: 2015-04-15 01:00:00\n"
     ]
    },
    {
     "name": "stderr",
     "output_type": "stream",
     "text": [
      "Total processed submissions: 0\n",
      "Total processed submissions: 0\n",
      "Total processed submissions: 9\n",
      "Total processed submissions: 22\n",
      "Total processed submissions: 41\n",
      "Total processed submissions: 71\n",
      "Total processed submissions: 76\n"
     ]
    },
    {
     "name": "stdout",
     "output_type": "stream",
     "text": [
      "Checking day: 2015-04-16 01:00:00\n"
     ]
    },
    {
     "name": "stderr",
     "output_type": "stream",
     "text": [
      "Total processed submissions: 0\n",
      "Total processed submissions: 0\n",
      "Total processed submissions: 7\n",
      "Total processed submissions: 20\n",
      "Total processed submissions: 46\n",
      "Total processed submissions: 71\n",
      "Total processed submissions: 76\n"
     ]
    },
    {
     "name": "stdout",
     "output_type": "stream",
     "text": [
      "Checking day: 2015-04-17 01:00:00\n"
     ]
    },
    {
     "name": "stderr",
     "output_type": "stream",
     "text": [
      "Total processed submissions: 0\n",
      "Total processed submissions: 1\n",
      "Total processed submissions: 10\n",
      "Total processed submissions: 29\n",
      "Total processed submissions: 43\n",
      "Total processed submissions: 65\n",
      "Total processed submissions: 72\n"
     ]
    },
    {
     "name": "stdout",
     "output_type": "stream",
     "text": [
      "Checking day: 2015-04-18 01:00:00\n"
     ]
    },
    {
     "name": "stderr",
     "output_type": "stream",
     "text": [
      "Total processed submissions: 0\n",
      "Total processed submissions: 0\n",
      "Total processed submissions: 10\n",
      "Total processed submissions: 22\n",
      "Total processed submissions: 42\n",
      "Total processed submissions: 66\n",
      "Total processed submissions: 71\n"
     ]
    },
    {
     "name": "stdout",
     "output_type": "stream",
     "text": [
      "Checking day: 2015-04-19 01:00:00\n"
     ]
    },
    {
     "name": "stderr",
     "output_type": "stream",
     "text": [
      "Total processed submissions: 0\n",
      "Total processed submissions: 1\n",
      "Total processed submissions: 8\n",
      "Total processed submissions: 21\n",
      "Total processed submissions: 50\n",
      "Total processed submissions: 78\n",
      "Total processed submissions: 86\n"
     ]
    },
    {
     "name": "stdout",
     "output_type": "stream",
     "text": [
      "Checking day: 2015-04-20 01:00:00\n"
     ]
    },
    {
     "name": "stderr",
     "output_type": "stream",
     "text": [
      "Total processed submissions: 0\n",
      "Total processed submissions: 0\n",
      "Total processed submissions: 7\n",
      "Total processed submissions: 28\n",
      "Total processed submissions: 50\n",
      "Total processed submissions: 82\n",
      "Total processed submissions: 85\n"
     ]
    },
    {
     "name": "stdout",
     "output_type": "stream",
     "text": [
      "Checking day: 2015-04-21 01:00:00\n"
     ]
    },
    {
     "name": "stderr",
     "output_type": "stream",
     "text": [
      "Total processed submissions: 0\n",
      "Total processed submissions: 0\n",
      "Total processed submissions: 18\n",
      "Total processed submissions: 35\n",
      "Total processed submissions: 52\n",
      "Total processed submissions: 73\n",
      "Total processed submissions: 81\n"
     ]
    },
    {
     "name": "stdout",
     "output_type": "stream",
     "text": [
      "Checking day: 2015-04-22 01:00:00\n"
     ]
    },
    {
     "name": "stderr",
     "output_type": "stream",
     "text": [
      "Total processed submissions: 0\n",
      "Total processed submissions: 0\n",
      "Total processed submissions: 10\n",
      "Total processed submissions: 32\n",
      "Total processed submissions: 57\n",
      "Total processed submissions: 88\n",
      "Total processed submissions: 95\n"
     ]
    },
    {
     "name": "stdout",
     "output_type": "stream",
     "text": [
      "Checking day: 2015-04-23 01:00:00\n"
     ]
    },
    {
     "name": "stderr",
     "output_type": "stream",
     "text": [
      "Total processed submissions: 0\n",
      "Total processed submissions: 0\n",
      "Total processed submissions: 10\n",
      "Total processed submissions: 25\n",
      "Total processed submissions: 57\n",
      "Total processed submissions: 88\n",
      "Total processed submissions: 95\n"
     ]
    },
    {
     "name": "stdout",
     "output_type": "stream",
     "text": [
      "Checking day: 2015-04-24 01:00:00\n"
     ]
    },
    {
     "name": "stderr",
     "output_type": "stream",
     "text": [
      "Total processed submissions: 0\n",
      "Total processed submissions: 2\n",
      "Total processed submissions: 11\n",
      "Total processed submissions: 26\n",
      "Total processed submissions: 38\n",
      "Total processed submissions: 75\n",
      "Total processed submissions: 79\n"
     ]
    },
    {
     "name": "stdout",
     "output_type": "stream",
     "text": [
      "Checking day: 2015-04-25 01:00:00\n"
     ]
    },
    {
     "name": "stderr",
     "output_type": "stream",
     "text": [
      "Total processed submissions: 0\n",
      "Total processed submissions: 0\n",
      "Total processed submissions: 12\n",
      "Total processed submissions: 29\n",
      "Total processed submissions: 54\n",
      "Total processed submissions: 80\n",
      "Total processed submissions: 85\n"
     ]
    },
    {
     "name": "stdout",
     "output_type": "stream",
     "text": [
      "Checking day: 2015-04-26 01:00:00\n"
     ]
    },
    {
     "name": "stderr",
     "output_type": "stream",
     "text": [
      "Total processed submissions: 0\n",
      "Total processed submissions: 0\n",
      "Total processed submissions: 4\n",
      "Total processed submissions: 14\n",
      "Total processed submissions: 42\n",
      "Total processed submissions: 54\n",
      "Total processed submissions: 59\n"
     ]
    },
    {
     "name": "stdout",
     "output_type": "stream",
     "text": [
      "Checking day: 2015-04-27 01:00:00\n"
     ]
    },
    {
     "name": "stderr",
     "output_type": "stream",
     "text": [
      "Total processed submissions: 0\n",
      "Total processed submissions: 0\n",
      "Total processed submissions: 11\n",
      "Total processed submissions: 34\n",
      "Total processed submissions: 62\n",
      "Total processed submissions: 93\n",
      "Total processed submissions: 99\n"
     ]
    },
    {
     "name": "stdout",
     "output_type": "stream",
     "text": [
      "Checking day: 2015-04-28 01:00:00\n"
     ]
    },
    {
     "name": "stderr",
     "output_type": "stream",
     "text": [
      "Total processed submissions: 0\n",
      "Total processed submissions: 0\n",
      "Total processed submissions: 14\n",
      "Total processed submissions: 38\n",
      "Total processed submissions: 56\n",
      "Total processed submissions: 87\n",
      "Total processed submissions: 92\n"
     ]
    },
    {
     "name": "stdout",
     "output_type": "stream",
     "text": [
      "Checking day: 2015-04-29 01:00:00\n"
     ]
    },
    {
     "name": "stderr",
     "output_type": "stream",
     "text": [
      "Total processed submissions: 0\n",
      "Total processed submissions: 1\n",
      "Total processed submissions: 9\n",
      "Total processed submissions: 29\n",
      "Total processed submissions: 66\n",
      "Total processed submissions: 100\n",
      "Total processed submissions: 107\n"
     ]
    },
    {
     "name": "stdout",
     "output_type": "stream",
     "text": [
      "Checking day: 2015-04-30 01:00:00\n"
     ]
    },
    {
     "name": "stderr",
     "output_type": "stream",
     "text": [
      "Total processed submissions: 0\n",
      "Total processed submissions: 1\n",
      "Total processed submissions: 6\n",
      "Total processed submissions: 17\n",
      "Total processed submissions: 27\n",
      "Total processed submissions: 48\n",
      "Total processed submissions: 57\n"
     ]
    },
    {
     "name": "stdout",
     "output_type": "stream",
     "text": [
      "Checking day: 2015-05-01 01:00:00\n"
     ]
    },
    {
     "name": "stderr",
     "output_type": "stream",
     "text": [
      "Total processed submissions: 0\n",
      "Total processed submissions: 1\n",
      "Total processed submissions: 14\n",
      "Total processed submissions: 31\n",
      "Total processed submissions: 43\n",
      "Total processed submissions: 67\n",
      "Total processed submissions: 69\n"
     ]
    },
    {
     "name": "stdout",
     "output_type": "stream",
     "text": [
      "Checking day: 2015-05-02 01:00:00\n"
     ]
    },
    {
     "name": "stderr",
     "output_type": "stream",
     "text": [
      "Total processed submissions: 0\n",
      "Total processed submissions: 0\n",
      "Total processed submissions: 6\n",
      "Total processed submissions: 26\n",
      "Total processed submissions: 51\n",
      "Total processed submissions: 70\n",
      "Total processed submissions: 77\n"
     ]
    },
    {
     "name": "stdout",
     "output_type": "stream",
     "text": [
      "Checking day: 2015-05-03 01:00:00\n"
     ]
    },
    {
     "name": "stderr",
     "output_type": "stream",
     "text": [
      "Total processed submissions: 0\n",
      "Total processed submissions: 1\n",
      "Total processed submissions: 11\n",
      "Total processed submissions: 24\n",
      "Total processed submissions: 54\n",
      "Total processed submissions: 73\n",
      "Total processed submissions: 76\n"
     ]
    },
    {
     "name": "stdout",
     "output_type": "stream",
     "text": [
      "Checking day: 2015-05-04 01:00:00\n"
     ]
    },
    {
     "name": "stderr",
     "output_type": "stream",
     "text": [
      "Total processed submissions: 0\n",
      "Total processed submissions: 2\n",
      "Total processed submissions: 20\n",
      "Total processed submissions: 42\n",
      "Total processed submissions: 63\n",
      "Total processed submissions: 101\n",
      "Total processed submissions: 103\n"
     ]
    },
    {
     "name": "stdout",
     "output_type": "stream",
     "text": [
      "Checking day: 2015-05-05 01:00:00\n"
     ]
    },
    {
     "name": "stderr",
     "output_type": "stream",
     "text": [
      "Total processed submissions: 0\n",
      "Total processed submissions: 2\n",
      "Total processed submissions: 10\n",
      "Total processed submissions: 29\n",
      "Total processed submissions: 47\n",
      "Total processed submissions: 71\n",
      "Total processed submissions: 74\n"
     ]
    },
    {
     "name": "stdout",
     "output_type": "stream",
     "text": [
      "Checking day: 2015-05-06 01:00:00\n"
     ]
    },
    {
     "name": "stderr",
     "output_type": "stream",
     "text": [
      "Total processed submissions: 0\n",
      "Total processed submissions: 0\n",
      "Total processed submissions: 10\n",
      "Total processed submissions: 28\n",
      "Total processed submissions: 47\n",
      "Total processed submissions: 77\n",
      "Total processed submissions: 83\n"
     ]
    },
    {
     "name": "stdout",
     "output_type": "stream",
     "text": [
      "Checking day: 2015-05-07 01:00:00\n"
     ]
    },
    {
     "name": "stderr",
     "output_type": "stream",
     "text": [
      "Total processed submissions: 0\n",
      "Total processed submissions: 0\n",
      "Total processed submissions: 12\n",
      "Total processed submissions: 25\n",
      "Total processed submissions: 49\n",
      "Total processed submissions: 70\n",
      "Total processed submissions: 75\n"
     ]
    },
    {
     "name": "stdout",
     "output_type": "stream",
     "text": [
      "Checking day: 2015-05-08 01:00:00\n"
     ]
    },
    {
     "name": "stderr",
     "output_type": "stream",
     "text": [
      "Total processed submissions: 0\n",
      "Total processed submissions: 1\n",
      "Total processed submissions: 17\n",
      "Total processed submissions: 34\n",
      "Total processed submissions: 53\n",
      "Total processed submissions: 77\n",
      "Total processed submissions: 82\n"
     ]
    },
    {
     "name": "stdout",
     "output_type": "stream",
     "text": [
      "Checking day: 2015-05-09 01:00:00\n"
     ]
    },
    {
     "name": "stderr",
     "output_type": "stream",
     "text": [
      "Total processed submissions: 0\n",
      "Total processed submissions: 1\n",
      "Total processed submissions: 9\n",
      "Total processed submissions: 25\n",
      "Total processed submissions: 44\n",
      "Total processed submissions: 63\n",
      "Total processed submissions: 76\n"
     ]
    },
    {
     "name": "stdout",
     "output_type": "stream",
     "text": [
      "Checking day: 2015-05-10 01:00:00\n"
     ]
    },
    {
     "name": "stderr",
     "output_type": "stream",
     "text": [
      "Total processed submissions: 0\n",
      "Total processed submissions: 0\n",
      "Total processed submissions: 5\n",
      "Total processed submissions: 19\n",
      "Total processed submissions: 53\n",
      "Total processed submissions: 72\n",
      "Total processed submissions: 77\n"
     ]
    },
    {
     "name": "stdout",
     "output_type": "stream",
     "text": [
      "Checking day: 2015-05-11 01:00:00\n"
     ]
    },
    {
     "name": "stderr",
     "output_type": "stream",
     "text": [
      "Total processed submissions: 0\n",
      "Total processed submissions: 1\n",
      "Total processed submissions: 7\n",
      "Total processed submissions: 24\n",
      "Total processed submissions: 42\n",
      "Total processed submissions: 62\n",
      "Total processed submissions: 74\n"
     ]
    },
    {
     "name": "stdout",
     "output_type": "stream",
     "text": [
      "Checking day: 2015-05-12 01:00:00\n"
     ]
    },
    {
     "name": "stderr",
     "output_type": "stream",
     "text": [
      "Total processed submissions: 0\n",
      "Total processed submissions: 2\n",
      "Total processed submissions: 20\n",
      "Total processed submissions: 37\n",
      "Total processed submissions: 55\n",
      "Total processed submissions: 87\n",
      "Total processed submissions: 94\n"
     ]
    },
    {
     "name": "stdout",
     "output_type": "stream",
     "text": [
      "Checking day: 2015-05-13 01:00:00\n"
     ]
    },
    {
     "name": "stderr",
     "output_type": "stream",
     "text": [
      "Total processed submissions: 0\n",
      "Total processed submissions: 1\n",
      "Total processed submissions: 12\n",
      "Total processed submissions: 29\n",
      "Total processed submissions: 45\n",
      "Total processed submissions: 84\n",
      "Total processed submissions: 93\n"
     ]
    },
    {
     "name": "stdout",
     "output_type": "stream",
     "text": [
      "Checking day: 2015-05-14 01:00:00\n"
     ]
    },
    {
     "name": "stderr",
     "output_type": "stream",
     "text": [
      "Total processed submissions: 0\n",
      "Total processed submissions: 0\n",
      "Total processed submissions: 4\n",
      "Total processed submissions: 14\n",
      "Total processed submissions: 27\n",
      "Total processed submissions: 48\n",
      "Total processed submissions: 55\n"
     ]
    },
    {
     "name": "stdout",
     "output_type": "stream",
     "text": [
      "Checking day: 2015-05-15 01:00:00\n"
     ]
    },
    {
     "name": "stderr",
     "output_type": "stream",
     "text": [
      "Total processed submissions: 0\n",
      "Total processed submissions: 0\n",
      "Total processed submissions: 11\n",
      "Total processed submissions: 28\n",
      "Total processed submissions: 38\n",
      "Total processed submissions: 58\n",
      "Total processed submissions: 66\n"
     ]
    },
    {
     "name": "stdout",
     "output_type": "stream",
     "text": [
      "Checking day: 2015-05-16 01:00:00\n"
     ]
    },
    {
     "name": "stderr",
     "output_type": "stream",
     "text": [
      "Total processed submissions: 0\n",
      "Total processed submissions: 2\n",
      "Total processed submissions: 12\n",
      "Total processed submissions: 32\n",
      "Total processed submissions: 44\n",
      "Total processed submissions: 59\n",
      "Total processed submissions: 70\n"
     ]
    },
    {
     "name": "stdout",
     "output_type": "stream",
     "text": [
      "Checking day: 2015-05-17 01:00:00\n"
     ]
    },
    {
     "name": "stderr",
     "output_type": "stream",
     "text": [
      "Total processed submissions: 0\n",
      "Total processed submissions: 1\n",
      "Total processed submissions: 11\n",
      "Total processed submissions: 27\n",
      "Total processed submissions: 57\n",
      "Total processed submissions: 76\n",
      "Total processed submissions: 80\n"
     ]
    },
    {
     "name": "stdout",
     "output_type": "stream",
     "text": [
      "Checking day: 2015-05-18 01:00:00\n"
     ]
    },
    {
     "name": "stderr",
     "output_type": "stream",
     "text": [
      "Total processed submissions: 0\n",
      "Total processed submissions: 0\n",
      "Total processed submissions: 10\n",
      "Total processed submissions: 25\n",
      "Total processed submissions: 44\n",
      "Total processed submissions: 75\n",
      "Total processed submissions: 78\n"
     ]
    },
    {
     "name": "stdout",
     "output_type": "stream",
     "text": [
      "Checking day: 2015-05-19 01:00:00\n"
     ]
    },
    {
     "name": "stderr",
     "output_type": "stream",
     "text": [
      "Total processed submissions: 0\n",
      "Total processed submissions: 1\n",
      "Total processed submissions: 7\n",
      "Total processed submissions: 23\n",
      "Total processed submissions: 35\n",
      "Total processed submissions: 57\n",
      "Total processed submissions: 61\n"
     ]
    },
    {
     "name": "stdout",
     "output_type": "stream",
     "text": [
      "Checking day: 2015-05-20 01:00:00\n"
     ]
    },
    {
     "name": "stderr",
     "output_type": "stream",
     "text": [
      "Total processed submissions: 0\n",
      "Total processed submissions: 0\n",
      "Total processed submissions: 8\n",
      "Total processed submissions: 33\n",
      "Total processed submissions: 49\n",
      "Total processed submissions: 75\n",
      "Total processed submissions: 81\n"
     ]
    },
    {
     "name": "stdout",
     "output_type": "stream",
     "text": [
      "Checking day: 2015-05-21 01:00:00\n"
     ]
    },
    {
     "name": "stderr",
     "output_type": "stream",
     "text": [
      "Total processed submissions: 0\n",
      "Total processed submissions: 0\n",
      "Total processed submissions: 6\n",
      "Total processed submissions: 22\n",
      "Total processed submissions: 48\n",
      "Total processed submissions: 70\n",
      "Total processed submissions: 73\n"
     ]
    },
    {
     "name": "stdout",
     "output_type": "stream",
     "text": [
      "Checking day: 2015-05-22 01:00:00\n"
     ]
    },
    {
     "name": "stderr",
     "output_type": "stream",
     "text": [
      "Total processed submissions: 0\n",
      "Total processed submissions: 1\n",
      "Total processed submissions: 18\n",
      "Total processed submissions: 30\n",
      "Total processed submissions: 46\n",
      "Total processed submissions: 74\n",
      "Total processed submissions: 79\n"
     ]
    },
    {
     "name": "stdout",
     "output_type": "stream",
     "text": [
      "Checking day: 2015-05-23 01:00:00\n"
     ]
    },
    {
     "name": "stderr",
     "output_type": "stream",
     "text": [
      "Total processed submissions: 0\n",
      "Total processed submissions: 0\n",
      "Total processed submissions: 9\n",
      "Total processed submissions: 29\n",
      "Total processed submissions: 48\n",
      "Total processed submissions: 63\n",
      "Total processed submissions: 71\n"
     ]
    },
    {
     "name": "stdout",
     "output_type": "stream",
     "text": [
      "Checking day: 2015-05-24 01:00:00\n"
     ]
    },
    {
     "name": "stderr",
     "output_type": "stream",
     "text": [
      "Total processed submissions: 0\n",
      "Total processed submissions: 0\n",
      "Total processed submissions: 4\n",
      "Total processed submissions: 11\n",
      "Total processed submissions: 31\n",
      "Total processed submissions: 51\n",
      "Total processed submissions: 55\n"
     ]
    },
    {
     "name": "stdout",
     "output_type": "stream",
     "text": [
      "Checking day: 2015-05-25 01:00:00\n"
     ]
    },
    {
     "name": "stderr",
     "output_type": "stream",
     "text": [
      "Total processed submissions: 0\n",
      "Total processed submissions: 0\n",
      "Total processed submissions: 5\n",
      "Total processed submissions: 21\n",
      "Total processed submissions: 44\n",
      "Total processed submissions: 73\n",
      "Total processed submissions: 81\n"
     ]
    },
    {
     "name": "stdout",
     "output_type": "stream",
     "text": [
      "Checking day: 2015-05-26 01:00:00\n"
     ]
    },
    {
     "name": "stderr",
     "output_type": "stream",
     "text": [
      "Total processed submissions: 0\n",
      "Total processed submissions: 2\n",
      "Total processed submissions: 22\n",
      "Total processed submissions: 44\n",
      "Total processed submissions: 65\n",
      "Total processed submissions: 103\n",
      "Total processed submissions: 108\n"
     ]
    },
    {
     "name": "stdout",
     "output_type": "stream",
     "text": [
      "Checking day: 2015-05-27 01:00:00\n"
     ]
    },
    {
     "name": "stderr",
     "output_type": "stream",
     "text": [
      "Total processed submissions: 0\n",
      "Total processed submissions: 1\n",
      "Total processed submissions: 11\n",
      "Total processed submissions: 25\n",
      "Total processed submissions: 64\n",
      "Total processed submissions: 115\n",
      "Total processed submissions: 129\n",
      "Total processed submissions: 129\n"
     ]
    },
    {
     "name": "stdout",
     "output_type": "stream",
     "text": [
      "Checking day: 2015-05-28 01:00:00\n"
     ]
    },
    {
     "name": "stderr",
     "output_type": "stream",
     "text": [
      "Total processed submissions: 0\n",
      "Total processed submissions: 0\n",
      "Total processed submissions: 8\n",
      "Total processed submissions: 18\n",
      "Total processed submissions: 40\n",
      "Total processed submissions: 68\n",
      "Total processed submissions: 71\n"
     ]
    },
    {
     "name": "stdout",
     "output_type": "stream",
     "text": [
      "Checking day: 2015-05-29 01:00:00\n"
     ]
    },
    {
     "name": "stderr",
     "output_type": "stream",
     "text": [
      "Total processed submissions: 0\n",
      "Total processed submissions: 1\n",
      "Total processed submissions: 15\n",
      "Total processed submissions: 28\n",
      "Total processed submissions: 52\n",
      "Total processed submissions: 91\n",
      "Total processed submissions: 97\n"
     ]
    },
    {
     "name": "stdout",
     "output_type": "stream",
     "text": [
      "Checking day: 2015-05-30 01:00:00\n"
     ]
    },
    {
     "name": "stderr",
     "output_type": "stream",
     "text": [
      "Total processed submissions: 0\n",
      "Total processed submissions: 2\n",
      "Total processed submissions: 8\n",
      "Total processed submissions: 18\n",
      "Total processed submissions: 35\n",
      "Total processed submissions: 54\n",
      "Total processed submissions: 64\n"
     ]
    },
    {
     "name": "stdout",
     "output_type": "stream",
     "text": [
      "Checking day: 2015-05-31 01:00:00\n"
     ]
    },
    {
     "name": "stderr",
     "output_type": "stream",
     "text": [
      "Total processed submissions: 0\n",
      "Total processed submissions: 1\n",
      "Total processed submissions: 5\n",
      "Total processed submissions: 12\n",
      "Total processed submissions: 35\n",
      "Total processed submissions: 49\n",
      "Total processed submissions: 56\n"
     ]
    },
    {
     "name": "stdout",
     "output_type": "stream",
     "text": [
      "Checking day: 2015-06-01 01:00:00\n"
     ]
    },
    {
     "name": "stderr",
     "output_type": "stream",
     "text": [
      "Total processed submissions: 0\n",
      "Total processed submissions: 0\n",
      "Total processed submissions: 16\n",
      "Total processed submissions: 25\n",
      "Total processed submissions: 39\n",
      "Total processed submissions: 66\n",
      "Total processed submissions: 75\n"
     ]
    },
    {
     "name": "stdout",
     "output_type": "stream",
     "text": [
      "Checking day: 2015-06-02 01:00:00\n"
     ]
    },
    {
     "name": "stderr",
     "output_type": "stream",
     "text": [
      "Total processed submissions: 0\n",
      "Total processed submissions: 3\n",
      "Total processed submissions: 20\n",
      "Total processed submissions: 43\n",
      "Total processed submissions: 62\n",
      "Total processed submissions: 95\n",
      "Total processed submissions: 98\n"
     ]
    },
    {
     "name": "stdout",
     "output_type": "stream",
     "text": [
      "Checking day: 2015-06-03 01:00:00\n"
     ]
    },
    {
     "name": "stderr",
     "output_type": "stream",
     "text": [
      "Total processed submissions: 0\n",
      "Total processed submissions: 0\n",
      "Total processed submissions: 6\n",
      "Total processed submissions: 16\n",
      "Total processed submissions: 51\n",
      "Total processed submissions: 75\n",
      "Total processed submissions: 83\n"
     ]
    },
    {
     "name": "stdout",
     "output_type": "stream",
     "text": [
      "Checking day: 2015-06-04 01:00:00\n"
     ]
    },
    {
     "name": "stderr",
     "output_type": "stream",
     "text": [
      "Total processed submissions: 0\n",
      "Total processed submissions: 2\n",
      "Total processed submissions: 11\n",
      "Total processed submissions: 17\n",
      "Total processed submissions: 30\n",
      "Total processed submissions: 61\n",
      "Total processed submissions: 69\n"
     ]
    },
    {
     "name": "stdout",
     "output_type": "stream",
     "text": [
      "Checking day: 2015-06-05 01:00:00\n"
     ]
    },
    {
     "name": "stderr",
     "output_type": "stream",
     "text": [
      "Total processed submissions: 0\n",
      "Total processed submissions: 1\n",
      "Total processed submissions: 10\n",
      "Total processed submissions: 34\n",
      "Total processed submissions: 45\n",
      "Total processed submissions: 72\n",
      "Total processed submissions: 78\n"
     ]
    },
    {
     "name": "stdout",
     "output_type": "stream",
     "text": [
      "Checking day: 2015-06-06 01:00:00\n"
     ]
    },
    {
     "name": "stderr",
     "output_type": "stream",
     "text": [
      "Total processed submissions: 0\n",
      "Total processed submissions: 0\n",
      "Total processed submissions: 6\n",
      "Total processed submissions: 20\n",
      "Total processed submissions: 43\n",
      "Total processed submissions: 60\n",
      "Total processed submissions: 70\n"
     ]
    },
    {
     "name": "stdout",
     "output_type": "stream",
     "text": [
      "Checking day: 2015-06-07 01:00:00\n"
     ]
    },
    {
     "name": "stderr",
     "output_type": "stream",
     "text": [
      "Total processed submissions: 0\n",
      "Total processed submissions: 0\n",
      "Total processed submissions: 3\n",
      "Total processed submissions: 12\n",
      "Total processed submissions: 33\n",
      "Total processed submissions: 53\n",
      "Total processed submissions: 56\n"
     ]
    },
    {
     "name": "stdout",
     "output_type": "stream",
     "text": [
      "Checking day: 2015-06-08 01:00:00\n"
     ]
    },
    {
     "name": "stderr",
     "output_type": "stream",
     "text": [
      "Total processed submissions: 0\n",
      "Total processed submissions: 1\n",
      "Total processed submissions: 10\n",
      "Total processed submissions: 30\n",
      "Total processed submissions: 54\n",
      "Total processed submissions: 76\n",
      "Total processed submissions: 80\n"
     ]
    },
    {
     "name": "stdout",
     "output_type": "stream",
     "text": [
      "Checking day: 2015-06-09 01:00:00\n"
     ]
    },
    {
     "name": "stderr",
     "output_type": "stream",
     "text": [
      "Total processed submissions: 0\n",
      "Total processed submissions: 2\n",
      "Total processed submissions: 11\n",
      "Total processed submissions: 39\n",
      "Total processed submissions: 54\n",
      "Total processed submissions: 81\n",
      "Total processed submissions: 84\n"
     ]
    },
    {
     "name": "stdout",
     "output_type": "stream",
     "text": [
      "Checking day: 2015-06-10 01:00:00\n"
     ]
    },
    {
     "name": "stderr",
     "output_type": "stream",
     "text": [
      "Total processed submissions: 0\n",
      "Total processed submissions: 0\n",
      "Total processed submissions: 9\n",
      "Total processed submissions: 19\n",
      "Total processed submissions: 44\n",
      "Total processed submissions: 78\n",
      "Total processed submissions: 86\n"
     ]
    },
    {
     "name": "stdout",
     "output_type": "stream",
     "text": [
      "Checking day: 2015-06-11 01:00:00\n"
     ]
    },
    {
     "name": "stderr",
     "output_type": "stream",
     "text": [
      "Total processed submissions: 0\n",
      "Total processed submissions: 0\n",
      "Total processed submissions: 4\n",
      "Total processed submissions: 18\n",
      "Total processed submissions: 38\n",
      "Total processed submissions: 74\n",
      "Total processed submissions: 81\n"
     ]
    },
    {
     "name": "stdout",
     "output_type": "stream",
     "text": [
      "Checking day: 2015-06-12 01:00:00\n"
     ]
    },
    {
     "name": "stderr",
     "output_type": "stream",
     "text": [
      "Total processed submissions: 0\n",
      "Total processed submissions: 3\n",
      "Total processed submissions: 16\n",
      "Total processed submissions: 44\n",
      "Total processed submissions: 59\n",
      "Total processed submissions: 82\n",
      "Total processed submissions: 84\n"
     ]
    },
    {
     "name": "stdout",
     "output_type": "stream",
     "text": [
      "Checking day: 2015-06-13 01:00:00\n"
     ]
    },
    {
     "name": "stderr",
     "output_type": "stream",
     "text": [
      "Total processed submissions: 0\n",
      "Total processed submissions: 3\n",
      "Total processed submissions: 10\n",
      "Total processed submissions: 20\n",
      "Total processed submissions: 39\n",
      "Total processed submissions: 56\n",
      "Total processed submissions: 61\n"
     ]
    },
    {
     "name": "stdout",
     "output_type": "stream",
     "text": [
      "Checking day: 2015-06-14 01:00:00\n"
     ]
    },
    {
     "name": "stderr",
     "output_type": "stream",
     "text": [
      "Total processed submissions: 0\n",
      "Total processed submissions: 1\n",
      "Total processed submissions: 7\n",
      "Total processed submissions: 16\n",
      "Total processed submissions: 55\n",
      "Total processed submissions: 70\n",
      "Total processed submissions: 75\n"
     ]
    },
    {
     "name": "stdout",
     "output_type": "stream",
     "text": [
      "Checking day: 2015-06-15 01:00:00\n"
     ]
    },
    {
     "name": "stderr",
     "output_type": "stream",
     "text": [
      "Total processed submissions: 0\n",
      "Total processed submissions: 1\n",
      "Total processed submissions: 8\n",
      "Total processed submissions: 39\n",
      "Total processed submissions: 69\n",
      "Total processed submissions: 97\n",
      "Total processed submissions: 102\n"
     ]
    },
    {
     "name": "stdout",
     "output_type": "stream",
     "text": [
      "Checking day: 2015-06-16 01:00:00\n"
     ]
    },
    {
     "name": "stderr",
     "output_type": "stream",
     "text": [
      "Total processed submissions: 0\n",
      "Total processed submissions: 1\n",
      "Total processed submissions: 9\n",
      "Total processed submissions: 44\n",
      "Total processed submissions: 65\n",
      "Total processed submissions: 104\n",
      "Total processed submissions: 108\n"
     ]
    },
    {
     "name": "stdout",
     "output_type": "stream",
     "text": [
      "Checking day: 2015-06-17 01:00:00\n"
     ]
    },
    {
     "name": "stderr",
     "output_type": "stream",
     "text": [
      "Total processed submissions: 0\n",
      "Total processed submissions: 3\n",
      "Total processed submissions: 19\n",
      "Total processed submissions: 40\n",
      "Total processed submissions: 56\n",
      "Total processed submissions: 90\n",
      "Total processed submissions: 96\n"
     ]
    },
    {
     "name": "stdout",
     "output_type": "stream",
     "text": [
      "Checking day: 2015-06-18 01:00:00\n"
     ]
    },
    {
     "name": "stderr",
     "output_type": "stream",
     "text": [
      "Total processed submissions: 0\n",
      "Total processed submissions: 1\n",
      "Total processed submissions: 16\n",
      "Total processed submissions: 34\n",
      "Total processed submissions: 54\n",
      "Total processed submissions: 81\n",
      "Total processed submissions: 90\n"
     ]
    },
    {
     "name": "stdout",
     "output_type": "stream",
     "text": [
      "Checking day: 2015-06-19 01:00:00\n"
     ]
    },
    {
     "name": "stderr",
     "output_type": "stream",
     "text": [
      "Total processed submissions: 0\n",
      "Total processed submissions: 1\n",
      "Total processed submissions: 12\n",
      "Total processed submissions: 38\n",
      "Total processed submissions: 53\n",
      "Total processed submissions: 81\n",
      "Total processed submissions: 85\n"
     ]
    },
    {
     "name": "stdout",
     "output_type": "stream",
     "text": [
      "Checking day: 2015-06-20 01:00:00\n"
     ]
    },
    {
     "name": "stderr",
     "output_type": "stream",
     "text": [
      "Total processed submissions: 0\n",
      "Total processed submissions: 1\n",
      "Total processed submissions: 14\n",
      "Total processed submissions: 31\n",
      "Total processed submissions: 65\n",
      "Total processed submissions: 82\n",
      "Total processed submissions: 84\n"
     ]
    },
    {
     "name": "stdout",
     "output_type": "stream",
     "text": [
      "Checking day: 2015-06-21 01:00:00\n"
     ]
    },
    {
     "name": "stderr",
     "output_type": "stream",
     "text": [
      "Total processed submissions: 0\n",
      "Total processed submissions: 1\n",
      "Total processed submissions: 9\n",
      "Total processed submissions: 17\n",
      "Total processed submissions: 47\n",
      "Total processed submissions: 73\n",
      "Total processed submissions: 79\n"
     ]
    },
    {
     "name": "stdout",
     "output_type": "stream",
     "text": [
      "Checking day: 2015-06-22 01:00:00\n"
     ]
    },
    {
     "name": "stderr",
     "output_type": "stream",
     "text": [
      "Total processed submissions: 0\n",
      "Total processed submissions: 0\n",
      "Total processed submissions: 17\n",
      "Total processed submissions: 27\n",
      "Total processed submissions: 58\n",
      "Total processed submissions: 85\n",
      "Total processed submissions: 95\n"
     ]
    },
    {
     "name": "stdout",
     "output_type": "stream",
     "text": [
      "Checking day: 2015-06-23 01:00:00\n"
     ]
    },
    {
     "name": "stderr",
     "output_type": "stream",
     "text": [
      "Total processed submissions: 0\n",
      "Total processed submissions: 1\n",
      "Total processed submissions: 19\n",
      "Total processed submissions: 43\n",
      "Total processed submissions: 59\n",
      "Total processed submissions: 86\n",
      "Total processed submissions: 93\n"
     ]
    },
    {
     "name": "stdout",
     "output_type": "stream",
     "text": [
      "Checking day: 2015-06-24 01:00:00\n"
     ]
    },
    {
     "name": "stderr",
     "output_type": "stream",
     "text": [
      "Total processed submissions: 0\n",
      "Total processed submissions: 0\n",
      "Total processed submissions: 8\n",
      "Total processed submissions: 20\n",
      "Total processed submissions: 40\n",
      "Total processed submissions: 75\n",
      "Total processed submissions: 86\n"
     ]
    },
    {
     "name": "stdout",
     "output_type": "stream",
     "text": [
      "Checking day: 2015-06-25 01:00:00\n"
     ]
    },
    {
     "name": "stderr",
     "output_type": "stream",
     "text": [
      "Total processed submissions: 0\n",
      "Total processed submissions: 1\n",
      "Total processed submissions: 3\n",
      "Total processed submissions: 8\n",
      "Total processed submissions: 36\n",
      "Total processed submissions: 63\n",
      "Total processed submissions: 66\n"
     ]
    },
    {
     "name": "stdout",
     "output_type": "stream",
     "text": [
      "Checking day: 2015-06-26 01:00:00\n"
     ]
    },
    {
     "name": "stderr",
     "output_type": "stream",
     "text": [
      "Total processed submissions: 0\n",
      "Total processed submissions: 0\n",
      "Total processed submissions: 7\n",
      "Total processed submissions: 26\n",
      "Total processed submissions: 35\n",
      "Total processed submissions: 53\n",
      "Total processed submissions: 59\n"
     ]
    },
    {
     "name": "stdout",
     "output_type": "stream",
     "text": [
      "Checking day: 2015-06-27 01:00:00\n"
     ]
    },
    {
     "name": "stderr",
     "output_type": "stream",
     "text": [
      "Total processed submissions: 0\n",
      "Total processed submissions: 0\n",
      "Total processed submissions: 5\n",
      "Total processed submissions: 16\n",
      "Total processed submissions: 35\n",
      "Total processed submissions: 47\n",
      "Total processed submissions: 58\n"
     ]
    },
    {
     "name": "stdout",
     "output_type": "stream",
     "text": [
      "Checking day: 2015-06-28 01:00:00\n"
     ]
    },
    {
     "name": "stderr",
     "output_type": "stream",
     "text": [
      "Total processed submissions: 0\n",
      "Total processed submissions: 2\n",
      "Total processed submissions: 12\n",
      "Total processed submissions: 27\n",
      "Total processed submissions: 73\n",
      "Total processed submissions: 99\n",
      "Total processed submissions: 107\n"
     ]
    },
    {
     "name": "stdout",
     "output_type": "stream",
     "text": [
      "Checking day: 2015-06-29 01:00:00\n"
     ]
    },
    {
     "name": "stderr",
     "output_type": "stream",
     "text": [
      "Total processed submissions: 0\n",
      "Total processed submissions: 0\n",
      "Total processed submissions: 14\n",
      "Total processed submissions: 27\n",
      "Total processed submissions: 43\n",
      "Total processed submissions: 71\n",
      "Total processed submissions: 73\n"
     ]
    },
    {
     "name": "stdout",
     "output_type": "stream",
     "text": [
      "Checking day: 2015-06-30 01:00:00\n"
     ]
    },
    {
     "name": "stderr",
     "output_type": "stream",
     "text": [
      "Total processed submissions: 0\n",
      "Total processed submissions: 1\n",
      "Total processed submissions: 12\n",
      "Total processed submissions: 23\n",
      "Total processed submissions: 43\n",
      "Total processed submissions: 73\n",
      "Total processed submissions: 79\n"
     ]
    },
    {
     "name": "stdout",
     "output_type": "stream",
     "text": [
      "Checking day: 2015-07-01 01:00:00\n"
     ]
    },
    {
     "name": "stderr",
     "output_type": "stream",
     "text": [
      "Total processed submissions: 0\n",
      "Total processed submissions: 2\n",
      "Total processed submissions: 10\n",
      "Total processed submissions: 32\n",
      "Total processed submissions: 47\n",
      "Total processed submissions: 71\n",
      "Total processed submissions: 73\n"
     ]
    },
    {
     "name": "stdout",
     "output_type": "stream",
     "text": [
      "Checking day: 2015-07-02 01:00:00\n"
     ]
    },
    {
     "name": "stderr",
     "output_type": "stream",
     "text": [
      "Total processed submissions: 0\n",
      "Total processed submissions: 0\n",
      "Total processed submissions: 7\n",
      "Total processed submissions: 24\n",
      "Total processed submissions: 43\n",
      "Total processed submissions: 76\n",
      "Total processed submissions: 85\n"
     ]
    },
    {
     "name": "stdout",
     "output_type": "stream",
     "text": [
      "Checking day: 2015-07-03 01:00:00\n"
     ]
    },
    {
     "name": "stderr",
     "output_type": "stream",
     "text": [
      "Total processed submissions: 0\n",
      "Total processed submissions: 1\n",
      "Total processed submissions: 15\n",
      "Total processed submissions: 25\n",
      "Total processed submissions: 37\n",
      "Total processed submissions: 50\n",
      "Total processed submissions: 54\n"
     ]
    },
    {
     "name": "stdout",
     "output_type": "stream",
     "text": [
      "Checking day: 2015-07-04 01:00:00\n"
     ]
    },
    {
     "name": "stderr",
     "output_type": "stream",
     "text": [
      "Total processed submissions: 0\n",
      "Total processed submissions: 0\n",
      "Total processed submissions: 5\n",
      "Total processed submissions: 14\n",
      "Total processed submissions: 29\n",
      "Total processed submissions: 49\n",
      "Total processed submissions: 52\n"
     ]
    },
    {
     "name": "stdout",
     "output_type": "stream",
     "text": [
      "Checking day: 2015-07-05 01:00:00\n"
     ]
    },
    {
     "name": "stderr",
     "output_type": "stream",
     "text": [
      "Total processed submissions: 0\n",
      "Total processed submissions: 0\n",
      "Total processed submissions: 5\n",
      "Total processed submissions: 19\n",
      "Total processed submissions: 44\n",
      "Total processed submissions: 62\n",
      "Total processed submissions: 66\n"
     ]
    },
    {
     "name": "stdout",
     "output_type": "stream",
     "text": [
      "Checking day: 2015-07-06 01:00:00\n"
     ]
    },
    {
     "name": "stderr",
     "output_type": "stream",
     "text": [
      "Total processed submissions: 0\n",
      "Total processed submissions: 0\n",
      "Total processed submissions: 14\n",
      "Total processed submissions: 46\n",
      "Total processed submissions: 63\n",
      "Total processed submissions: 88\n",
      "Total processed submissions: 96\n"
     ]
    },
    {
     "name": "stdout",
     "output_type": "stream",
     "text": [
      "Checking day: 2015-07-07 01:00:00\n"
     ]
    },
    {
     "name": "stderr",
     "output_type": "stream",
     "text": [
      "Total processed submissions: 0\n",
      "Total processed submissions: 2\n",
      "Total processed submissions: 17\n",
      "Total processed submissions: 37\n",
      "Total processed submissions: 61\n",
      "Total processed submissions: 84\n",
      "Total processed submissions: 91\n"
     ]
    },
    {
     "name": "stdout",
     "output_type": "stream",
     "text": [
      "Checking day: 2015-07-08 01:00:00\n"
     ]
    },
    {
     "name": "stderr",
     "output_type": "stream",
     "text": [
      "Total processed submissions: 0\n",
      "Total processed submissions: 2\n",
      "Total processed submissions: 15\n",
      "Total processed submissions: 41\n",
      "Total processed submissions: 65\n",
      "Total processed submissions: 92\n",
      "Total processed submissions: 98\n"
     ]
    },
    {
     "name": "stdout",
     "output_type": "stream",
     "text": [
      "Checking day: 2015-07-09 01:00:00\n"
     ]
    },
    {
     "name": "stderr",
     "output_type": "stream",
     "text": [
      "Total processed submissions: 0\n",
      "Total processed submissions: 0\n",
      "Total processed submissions: 11\n",
      "Total processed submissions: 21\n",
      "Total processed submissions: 40\n",
      "Total processed submissions: 78\n",
      "Total processed submissions: 88\n"
     ]
    },
    {
     "name": "stdout",
     "output_type": "stream",
     "text": [
      "Checking day: 2015-07-10 01:00:00\n"
     ]
    },
    {
     "name": "stderr",
     "output_type": "stream",
     "text": [
      "Total processed submissions: 0\n",
      "Total processed submissions: 1\n",
      "Total processed submissions: 12\n",
      "Total processed submissions: 29\n",
      "Total processed submissions: 50\n",
      "Total processed submissions: 75\n",
      "Total processed submissions: 81\n"
     ]
    },
    {
     "name": "stdout",
     "output_type": "stream",
     "text": [
      "Checking day: 2015-07-11 01:00:00\n"
     ]
    },
    {
     "name": "stderr",
     "output_type": "stream",
     "text": [
      "Total processed submissions: 0\n",
      "Total processed submissions: 0\n",
      "Total processed submissions: 16\n",
      "Total processed submissions: 23\n",
      "Total processed submissions: 48\n",
      "Total processed submissions: 59\n",
      "Total processed submissions: 68\n"
     ]
    },
    {
     "name": "stdout",
     "output_type": "stream",
     "text": [
      "Checking day: 2015-07-12 01:00:00\n"
     ]
    },
    {
     "name": "stderr",
     "output_type": "stream",
     "text": [
      "Total processed submissions: 0\n",
      "Total processed submissions: 0\n",
      "Total processed submissions: 7\n",
      "Total processed submissions: 18\n",
      "Total processed submissions: 61\n",
      "Total processed submissions: 86\n",
      "Total processed submissions: 91\n"
     ]
    },
    {
     "name": "stdout",
     "output_type": "stream",
     "text": [
      "Checking day: 2015-07-13 01:00:00\n"
     ]
    },
    {
     "name": "stderr",
     "output_type": "stream",
     "text": [
      "Total processed submissions: 0\n",
      "Total processed submissions: 0\n",
      "Total processed submissions: 13\n",
      "Total processed submissions: 31\n",
      "Total processed submissions: 55\n",
      "Total processed submissions: 105\n",
      "Total processed submissions: 112\n",
      "Total processed submissions: 112\n"
     ]
    },
    {
     "name": "stdout",
     "output_type": "stream",
     "text": [
      "Checking day: 2015-07-14 01:00:00\n"
     ]
    },
    {
     "name": "stderr",
     "output_type": "stream",
     "text": [
      "Total processed submissions: 0\n",
      "Total processed submissions: 1\n",
      "Total processed submissions: 19\n",
      "Total processed submissions: 36\n",
      "Total processed submissions: 57\n",
      "Total processed submissions: 92\n",
      "Total processed submissions: 103\n"
     ]
    },
    {
     "name": "stdout",
     "output_type": "stream",
     "text": [
      "Checking day: 2015-07-15 01:00:00\n"
     ]
    },
    {
     "name": "stderr",
     "output_type": "stream",
     "text": [
      "Total processed submissions: 0\n",
      "Total processed submissions: 1\n",
      "Total processed submissions: 4\n",
      "Total processed submissions: 16\n",
      "Total processed submissions: 34\n",
      "Total processed submissions: 62\n",
      "Total processed submissions: 68\n"
     ]
    },
    {
     "name": "stdout",
     "output_type": "stream",
     "text": [
      "Checking day: 2015-07-16 01:00:00\n"
     ]
    },
    {
     "name": "stderr",
     "output_type": "stream",
     "text": [
      "Total processed submissions: 0\n",
      "Total processed submissions: 1\n",
      "Total processed submissions: 4\n",
      "Total processed submissions: 13\n",
      "Total processed submissions: 27\n",
      "Total processed submissions: 42\n",
      "Total processed submissions: 53\n"
     ]
    },
    {
     "name": "stdout",
     "output_type": "stream",
     "text": [
      "Checking day: 2015-07-17 01:00:00\n"
     ]
    },
    {
     "name": "stderr",
     "output_type": "stream",
     "text": [
      "Total processed submissions: 0\n",
      "Total processed submissions: 1\n",
      "Total processed submissions: 9\n",
      "Total processed submissions: 20\n",
      "Total processed submissions: 35\n",
      "Total processed submissions: 72\n",
      "Total processed submissions: 78\n"
     ]
    },
    {
     "name": "stdout",
     "output_type": "stream",
     "text": [
      "Checking day: 2015-07-18 01:00:00\n"
     ]
    },
    {
     "name": "stderr",
     "output_type": "stream",
     "text": [
      "Total processed submissions: 0\n",
      "Total processed submissions: 1\n",
      "Total processed submissions: 9\n",
      "Total processed submissions: 19\n",
      "Total processed submissions: 35\n",
      "Total processed submissions: 53\n",
      "Total processed submissions: 61\n"
     ]
    },
    {
     "name": "stdout",
     "output_type": "stream",
     "text": [
      "Checking day: 2015-07-19 01:00:00\n"
     ]
    },
    {
     "name": "stderr",
     "output_type": "stream",
     "text": [
      "Total processed submissions: 0\n",
      "Total processed submissions: 0\n",
      "Total processed submissions: 3\n",
      "Total processed submissions: 24\n",
      "Total processed submissions: 71\n",
      "Total processed submissions: 86\n",
      "Total processed submissions: 93\n"
     ]
    },
    {
     "name": "stdout",
     "output_type": "stream",
     "text": [
      "Checking day: 2015-07-20 01:00:00\n"
     ]
    },
    {
     "name": "stderr",
     "output_type": "stream",
     "text": [
      "Total processed submissions: 0\n",
      "Total processed submissions: 2\n",
      "Total processed submissions: 17\n",
      "Total processed submissions: 39\n",
      "Total processed submissions: 65\n",
      "Total processed submissions: 89\n",
      "Total processed submissions: 95\n"
     ]
    },
    {
     "name": "stdout",
     "output_type": "stream",
     "text": [
      "Checking day: 2015-07-21 01:00:00\n"
     ]
    },
    {
     "name": "stderr",
     "output_type": "stream",
     "text": [
      "Total processed submissions: 0\n",
      "Total processed submissions: 2\n",
      "Total processed submissions: 20\n",
      "Total processed submissions: 45\n",
      "Total processed submissions: 74\n",
      "Total processed submissions: 103\n",
      "Total processed submissions: 108\n"
     ]
    },
    {
     "name": "stdout",
     "output_type": "stream",
     "text": [
      "Checking day: 2015-07-22 01:00:00\n"
     ]
    },
    {
     "name": "stderr",
     "output_type": "stream",
     "text": [
      "Total processed submissions: 0\n",
      "Total processed submissions: 0\n",
      "Total processed submissions: 14\n",
      "Total processed submissions: 34\n",
      "Total processed submissions: 53\n",
      "Total processed submissions: 90\n",
      "Total processed submissions: 94\n"
     ]
    },
    {
     "name": "stdout",
     "output_type": "stream",
     "text": [
      "Checking day: 2015-07-23 01:00:00\n"
     ]
    },
    {
     "name": "stderr",
     "output_type": "stream",
     "text": [
      "Total processed submissions: 0\n",
      "Total processed submissions: 2\n",
      "Total processed submissions: 12\n",
      "Total processed submissions: 28\n",
      "Total processed submissions: 58\n",
      "Total processed submissions: 98\n",
      "Total processed submissions: 109\n"
     ]
    },
    {
     "name": "stdout",
     "output_type": "stream",
     "text": [
      "Checking day: 2015-07-24 01:00:00\n"
     ]
    },
    {
     "name": "stderr",
     "output_type": "stream",
     "text": [
      "Total processed submissions: 0\n",
      "Total processed submissions: 2\n",
      "Total processed submissions: 17\n",
      "Total processed submissions: 27\n",
      "Total processed submissions: 47\n",
      "Total processed submissions: 83\n",
      "Total processed submissions: 93\n"
     ]
    },
    {
     "name": "stdout",
     "output_type": "stream",
     "text": [
      "Checking day: 2015-07-25 01:00:00\n"
     ]
    },
    {
     "name": "stderr",
     "output_type": "stream",
     "text": [
      "Total processed submissions: 0\n",
      "Total processed submissions: 2\n",
      "Total processed submissions: 15\n",
      "Total processed submissions: 33\n",
      "Total processed submissions: 56\n",
      "Total processed submissions: 78\n",
      "Total processed submissions: 88\n"
     ]
    },
    {
     "name": "stdout",
     "output_type": "stream",
     "text": [
      "Checking day: 2015-07-26 01:00:00\n"
     ]
    },
    {
     "name": "stderr",
     "output_type": "stream",
     "text": [
      "Total processed submissions: 0\n",
      "Total processed submissions: 2\n",
      "Total processed submissions: 8\n",
      "Total processed submissions: 18\n",
      "Total processed submissions: 61\n",
      "Total processed submissions: 93\n",
      "Total processed submissions: 101\n"
     ]
    },
    {
     "name": "stdout",
     "output_type": "stream",
     "text": [
      "Checking day: 2015-07-27 01:00:00\n"
     ]
    },
    {
     "name": "stderr",
     "output_type": "stream",
     "text": [
      "Total processed submissions: 0\n",
      "Total processed submissions: 5\n",
      "Total processed submissions: 23\n",
      "Total processed submissions: 51\n",
      "Total processed submissions: 85\n",
      "Total processed submissions: 115\n",
      "Total processed submissions: 123\n"
     ]
    },
    {
     "name": "stdout",
     "output_type": "stream",
     "text": [
      "Checking day: 2015-07-28 01:00:00\n"
     ]
    },
    {
     "name": "stderr",
     "output_type": "stream",
     "text": [
      "Total processed submissions: 0\n",
      "Total processed submissions: 0\n",
      "Total processed submissions: 25\n",
      "Total processed submissions: 65\n",
      "Total processed submissions: 101\n",
      "Total processed submissions: 146\n",
      "Total processed submissions: 162\n"
     ]
    },
    {
     "name": "stdout",
     "output_type": "stream",
     "text": [
      "Checking day: 2015-07-29 01:00:00\n"
     ]
    },
    {
     "name": "stderr",
     "output_type": "stream",
     "text": [
      "Total processed submissions: 0\n",
      "Total processed submissions: 1\n",
      "Total processed submissions: 23\n",
      "Total processed submissions: 85\n",
      "Total processed submissions: 105\n",
      "Total processed submissions: 140\n",
      "Total processed submissions: 169\n",
      "Total processed submissions: 181\n"
     ]
    },
    {
     "name": "stdout",
     "output_type": "stream",
     "text": [
      "Checking day: 2015-07-30 01:00:00\n"
     ]
    },
    {
     "name": "stderr",
     "output_type": "stream",
     "text": [
      "Total processed submissions: 0\n",
      "Total processed submissions: 1\n",
      "Total processed submissions: 20\n",
      "Total processed submissions: 56\n",
      "Total processed submissions: 102\n",
      "Total processed submissions: 172\n",
      "Total processed submissions: 192\n",
      "Total processed submissions: 192\n"
     ]
    },
    {
     "name": "stdout",
     "output_type": "stream",
     "text": [
      "Checking day: 2015-07-31 01:00:00\n"
     ]
    },
    {
     "name": "stderr",
     "output_type": "stream",
     "text": [
      "Total processed submissions: 0\n",
      "Total processed submissions: 2\n",
      "Total processed submissions: 23\n",
      "Total processed submissions: 40\n",
      "Total processed submissions: 116\n",
      "Total processed submissions: 197\n",
      "Total processed submissions: 214\n",
      "Total processed submissions: 216\n",
      "Total processed submissions: 216\n"
     ]
    },
    {
     "name": "stdout",
     "output_type": "stream",
     "text": [
      "Checking day: 2015-08-01 01:00:00\n"
     ]
    },
    {
     "name": "stderr",
     "output_type": "stream",
     "text": [
      "Total processed submissions: 0\n",
      "Total processed submissions: 0\n",
      "Total processed submissions: 14\n",
      "Total processed submissions: 27\n",
      "Total processed submissions: 55\n",
      "Total processed submissions: 84\n",
      "Total processed submissions: 91\n"
     ]
    },
    {
     "name": "stdout",
     "output_type": "stream",
     "text": [
      "Checking day: 2015-08-02 01:00:00\n"
     ]
    },
    {
     "name": "stderr",
     "output_type": "stream",
     "text": [
      "Total processed submissions: 0\n",
      "Total processed submissions: 1\n",
      "Total processed submissions: 18\n",
      "Total processed submissions: 28\n",
      "Total processed submissions: 65\n",
      "Total processed submissions: 81\n",
      "Total processed submissions: 89\n"
     ]
    },
    {
     "name": "stdout",
     "output_type": "stream",
     "text": [
      "Checking day: 2015-08-03 01:00:00\n"
     ]
    },
    {
     "name": "stderr",
     "output_type": "stream",
     "text": [
      "Total processed submissions: 0\n",
      "Total processed submissions: 2\n",
      "Total processed submissions: 14\n",
      "Total processed submissions: 44\n",
      "Total processed submissions: 74\n",
      "Total processed submissions: 103\n",
      "Total processed submissions: 109\n"
     ]
    },
    {
     "name": "stdout",
     "output_type": "stream",
     "text": [
      "Checking day: 2015-08-04 01:00:00\n"
     ]
    },
    {
     "name": "stderr",
     "output_type": "stream",
     "text": [
      "Total processed submissions: 0\n",
      "Total processed submissions: 2\n",
      "Total processed submissions: 16\n",
      "Total processed submissions: 38\n",
      "Total processed submissions: 58\n",
      "Total processed submissions: 85\n",
      "Total processed submissions: 95\n"
     ]
    },
    {
     "name": "stdout",
     "output_type": "stream",
     "text": [
      "Checking day: 2015-08-05 01:00:00\n"
     ]
    },
    {
     "name": "stderr",
     "output_type": "stream",
     "text": [
      "Total processed submissions: 0\n",
      "Total processed submissions: 1\n",
      "Total processed submissions: 10\n",
      "Total processed submissions: 37\n",
      "Total processed submissions: 66\n",
      "Total processed submissions: 98\n",
      "Total processed submissions: 109\n"
     ]
    },
    {
     "name": "stdout",
     "output_type": "stream",
     "text": [
      "Checking day: 2015-08-06 01:00:00\n"
     ]
    },
    {
     "name": "stderr",
     "output_type": "stream",
     "text": [
      "Total processed submissions: 0\n",
      "Total processed submissions: 1\n",
      "Total processed submissions: 5\n",
      "Total processed submissions: 19\n",
      "Total processed submissions: 40\n",
      "Total processed submissions: 67\n",
      "Total processed submissions: 71\n"
     ]
    },
    {
     "name": "stdout",
     "output_type": "stream",
     "text": [
      "Checking day: 2015-08-07 01:00:00\n"
     ]
    },
    {
     "name": "stderr",
     "output_type": "stream",
     "text": [
      "Total processed submissions: 0\n",
      "Total processed submissions: 2\n",
      "Total processed submissions: 25\n",
      "Total processed submissions: 44\n",
      "Total processed submissions: 61\n",
      "Total processed submissions: 91\n",
      "Total processed submissions: 99\n"
     ]
    },
    {
     "name": "stdout",
     "output_type": "stream",
     "text": [
      "Checking day: 2015-08-08 01:00:00\n"
     ]
    },
    {
     "name": "stderr",
     "output_type": "stream",
     "text": [
      "Total processed submissions: 0\n",
      "Total processed submissions: 0\n",
      "Total processed submissions: 5\n",
      "Total processed submissions: 28\n",
      "Total processed submissions: 43\n",
      "Total processed submissions: 56\n",
      "Total processed submissions: 66\n"
     ]
    },
    {
     "name": "stdout",
     "output_type": "stream",
     "text": [
      "Checking day: 2015-08-09 01:00:00\n"
     ]
    },
    {
     "name": "stderr",
     "output_type": "stream",
     "text": [
      "Total processed submissions: 0\n",
      "Total processed submissions: 1\n",
      "Total processed submissions: 9\n",
      "Total processed submissions: 20\n",
      "Total processed submissions: 62\n",
      "Total processed submissions: 94\n",
      "Total processed submissions: 104\n"
     ]
    },
    {
     "name": "stdout",
     "output_type": "stream",
     "text": [
      "Checking day: 2015-08-10 01:00:00\n"
     ]
    },
    {
     "name": "stderr",
     "output_type": "stream",
     "text": [
      "Total processed submissions: 0\n",
      "Total processed submissions: 2\n",
      "Total processed submissions: 20\n",
      "Total processed submissions: 26\n",
      "Total processed submissions: 45\n",
      "Total processed submissions: 70\n",
      "Total processed submissions: 72\n"
     ]
    },
    {
     "name": "stdout",
     "output_type": "stream",
     "text": [
      "Checking day: 2015-08-11 01:00:00\n"
     ]
    },
    {
     "name": "stderr",
     "output_type": "stream",
     "text": [
      "Total processed submissions: 0\n",
      "Total processed submissions: 1\n",
      "Total processed submissions: 23\n",
      "Total processed submissions: 45\n",
      "Total processed submissions: 62\n",
      "Total processed submissions: 75\n",
      "Total processed submissions: 83\n"
     ]
    },
    {
     "name": "stdout",
     "output_type": "stream",
     "text": [
      "Checking day: 2015-08-12 01:00:00\n"
     ]
    },
    {
     "name": "stderr",
     "output_type": "stream",
     "text": [
      "Total processed submissions: 0\n",
      "Total processed submissions: 0\n",
      "Total processed submissions: 8\n",
      "Total processed submissions: 38\n",
      "Total processed submissions: 56\n",
      "Total processed submissions: 83\n",
      "Total processed submissions: 94\n"
     ]
    },
    {
     "name": "stdout",
     "output_type": "stream",
     "text": [
      "Checking day: 2015-08-13 01:00:00\n"
     ]
    },
    {
     "name": "stderr",
     "output_type": "stream",
     "text": [
      "Total processed submissions: 0\n",
      "Total processed submissions: 1\n",
      "Total processed submissions: 13\n",
      "Total processed submissions: 22\n",
      "Total processed submissions: 41\n",
      "Total processed submissions: 66\n",
      "Total processed submissions: 77\n"
     ]
    },
    {
     "name": "stdout",
     "output_type": "stream",
     "text": [
      "Checking day: 2015-08-14 01:00:00\n"
     ]
    },
    {
     "name": "stderr",
     "output_type": "stream",
     "text": [
      "Total processed submissions: 0\n",
      "Total processed submissions: 1\n",
      "Total processed submissions: 13\n",
      "Total processed submissions: 36\n",
      "Total processed submissions: 56\n",
      "Total processed submissions: 93\n",
      "Total processed submissions: 102\n"
     ]
    },
    {
     "name": "stdout",
     "output_type": "stream",
     "text": [
      "Checking day: 2015-08-15 01:00:00\n"
     ]
    },
    {
     "name": "stderr",
     "output_type": "stream",
     "text": [
      "Total processed submissions: 0\n",
      "Total processed submissions: 1\n",
      "Total processed submissions: 13\n",
      "Total processed submissions: 35\n",
      "Total processed submissions: 62\n",
      "Total processed submissions: 82\n",
      "Total processed submissions: 86\n"
     ]
    },
    {
     "name": "stdout",
     "output_type": "stream",
     "text": [
      "Checking day: 2015-08-16 01:00:00\n"
     ]
    },
    {
     "name": "stderr",
     "output_type": "stream",
     "text": [
      "Total processed submissions: 0\n",
      "Total processed submissions: 0\n",
      "Total processed submissions: 7\n",
      "Total processed submissions: 19\n",
      "Total processed submissions: 61\n",
      "Total processed submissions: 75\n",
      "Total processed submissions: 86\n"
     ]
    },
    {
     "name": "stdout",
     "output_type": "stream",
     "text": [
      "Checking day: 2015-08-17 01:00:00\n"
     ]
    },
    {
     "name": "stderr",
     "output_type": "stream",
     "text": [
      "Total processed submissions: 0\n",
      "Total processed submissions: 0\n",
      "Total processed submissions: 10\n",
      "Total processed submissions: 27\n",
      "Total processed submissions: 49\n",
      "Total processed submissions: 81\n",
      "Total processed submissions: 86\n"
     ]
    },
    {
     "name": "stdout",
     "output_type": "stream",
     "text": [
      "Checking day: 2015-08-18 01:00:00\n"
     ]
    },
    {
     "name": "stderr",
     "output_type": "stream",
     "text": [
      "Total processed submissions: 0\n",
      "Total processed submissions: 2\n",
      "Total processed submissions: 24\n",
      "Total processed submissions: 47\n",
      "Total processed submissions: 66\n",
      "Total processed submissions: 85\n",
      "Total processed submissions: 91\n"
     ]
    },
    {
     "name": "stdout",
     "output_type": "stream",
     "text": [
      "Checking day: 2015-08-19 01:00:00\n"
     ]
    },
    {
     "name": "stderr",
     "output_type": "stream",
     "text": [
      "Total processed submissions: 0\n",
      "Total processed submissions: 0\n",
      "Total processed submissions: 11\n",
      "Total processed submissions: 32\n",
      "Total processed submissions: 61\n",
      "Total processed submissions: 98\n",
      "Total processed submissions: 102\n"
     ]
    },
    {
     "name": "stdout",
     "output_type": "stream",
     "text": [
      "Checking day: 2015-08-20 01:00:00\n"
     ]
    },
    {
     "name": "stderr",
     "output_type": "stream",
     "text": [
      "Total processed submissions: 0\n",
      "Total processed submissions: 0\n",
      "Total processed submissions: 10\n",
      "Total processed submissions: 21\n",
      "Total processed submissions: 35\n",
      "Total processed submissions: 64\n",
      "Total processed submissions: 69\n"
     ]
    },
    {
     "name": "stdout",
     "output_type": "stream",
     "text": [
      "Checking day: 2015-08-21 01:00:00\n"
     ]
    },
    {
     "name": "stderr",
     "output_type": "stream",
     "text": [
      "Total processed submissions: 0\n",
      "Total processed submissions: 2\n",
      "Total processed submissions: 13\n",
      "Total processed submissions: 40\n",
      "Total processed submissions: 64\n",
      "Total processed submissions: 94\n",
      "Total processed submissions: 100\n"
     ]
    },
    {
     "name": "stdout",
     "output_type": "stream",
     "text": [
      "Checking day: 2015-08-22 01:00:00\n"
     ]
    },
    {
     "name": "stderr",
     "output_type": "stream",
     "text": [
      "Total processed submissions: 0\n",
      "Total processed submissions: 4\n",
      "Total processed submissions: 18\n",
      "Total processed submissions: 44\n",
      "Total processed submissions: 60\n",
      "Total processed submissions: 80\n",
      "Total processed submissions: 88\n"
     ]
    },
    {
     "name": "stdout",
     "output_type": "stream",
     "text": [
      "Checking day: 2015-08-23 01:00:00\n"
     ]
    },
    {
     "name": "stderr",
     "output_type": "stream",
     "text": [
      "Total processed submissions: 0\n",
      "Total processed submissions: 2\n",
      "Total processed submissions: 7\n",
      "Total processed submissions: 16\n",
      "Total processed submissions: 58\n",
      "Total processed submissions: 71\n",
      "Total processed submissions: 76\n"
     ]
    },
    {
     "name": "stdout",
     "output_type": "stream",
     "text": [
      "Checking day: 2015-08-24 01:00:00\n"
     ]
    },
    {
     "name": "stderr",
     "output_type": "stream",
     "text": [
      "Total processed submissions: 0\n",
      "Total processed submissions: 0\n",
      "Total processed submissions: 11\n",
      "Total processed submissions: 34\n",
      "Total processed submissions: 60\n",
      "Total processed submissions: 89\n",
      "Total processed submissions: 91\n"
     ]
    },
    {
     "name": "stdout",
     "output_type": "stream",
     "text": [
      "Checking day: 2015-08-25 01:00:00\n"
     ]
    },
    {
     "name": "stderr",
     "output_type": "stream",
     "text": [
      "Total processed submissions: 0\n",
      "Total processed submissions: 4\n",
      "Total processed submissions: 13\n",
      "Total processed submissions: 36\n",
      "Total processed submissions: 49\n",
      "Total processed submissions: 77\n",
      "Total processed submissions: 84\n"
     ]
    },
    {
     "name": "stdout",
     "output_type": "stream",
     "text": [
      "Checking day: 2015-08-26 01:00:00\n"
     ]
    },
    {
     "name": "stderr",
     "output_type": "stream",
     "text": [
      "Total processed submissions: 0\n",
      "Total processed submissions: 0\n",
      "Total processed submissions: 10\n",
      "Total processed submissions: 38\n",
      "Total processed submissions: 58\n",
      "Total processed submissions: 89\n",
      "Total processed submissions: 101\n"
     ]
    },
    {
     "name": "stdout",
     "output_type": "stream",
     "text": [
      "Checking day: 2015-08-27 01:00:00\n"
     ]
    },
    {
     "name": "stderr",
     "output_type": "stream",
     "text": [
      "Total processed submissions: 0\n",
      "Total processed submissions: 1\n",
      "Total processed submissions: 7\n",
      "Total processed submissions: 21\n",
      "Total processed submissions: 38\n",
      "Total processed submissions: 68\n",
      "Total processed submissions: 71\n"
     ]
    },
    {
     "name": "stdout",
     "output_type": "stream",
     "text": [
      "Checking day: 2015-08-28 01:00:00\n"
     ]
    },
    {
     "name": "stderr",
     "output_type": "stream",
     "text": [
      "Total processed submissions: 0\n",
      "Total processed submissions: 0\n",
      "Total processed submissions: 6\n",
      "Total processed submissions: 34\n",
      "Total processed submissions: 45\n",
      "Total processed submissions: 82\n",
      "Total processed submissions: 89\n"
     ]
    },
    {
     "name": "stdout",
     "output_type": "stream",
     "text": [
      "Checking day: 2015-08-29 01:00:00\n"
     ]
    },
    {
     "name": "stderr",
     "output_type": "stream",
     "text": [
      "Total processed submissions: 0\n",
      "Total processed submissions: 0\n",
      "Total processed submissions: 8\n",
      "Total processed submissions: 17\n",
      "Total processed submissions: 38\n",
      "Total processed submissions: 61\n",
      "Total processed submissions: 68\n"
     ]
    },
    {
     "name": "stdout",
     "output_type": "stream",
     "text": [
      "Checking day: 2015-08-30 01:00:00\n"
     ]
    },
    {
     "name": "stderr",
     "output_type": "stream",
     "text": [
      "Total processed submissions: 0\n",
      "Total processed submissions: 0\n",
      "Total processed submissions: 19\n",
      "Total processed submissions: 32\n",
      "Total processed submissions: 63\n",
      "Total processed submissions: 83\n",
      "Total processed submissions: 85\n"
     ]
    },
    {
     "name": "stdout",
     "output_type": "stream",
     "text": [
      "Checking day: 2015-08-31 01:00:00\n"
     ]
    },
    {
     "name": "stderr",
     "output_type": "stream",
     "text": [
      "Total processed submissions: 0\n",
      "Total processed submissions: 0\n",
      "Total processed submissions: 17\n",
      "Total processed submissions: 30\n",
      "Total processed submissions: 56\n",
      "Total processed submissions: 82\n",
      "Total processed submissions: 89\n"
     ]
    },
    {
     "name": "stdout",
     "output_type": "stream",
     "text": [
      "Checking day: 2015-09-01 01:00:00\n"
     ]
    },
    {
     "name": "stderr",
     "output_type": "stream",
     "text": [
      "Total processed submissions: 0\n",
      "Total processed submissions: 3\n",
      "Total processed submissions: 26\n",
      "Total processed submissions: 43\n",
      "Total processed submissions: 63\n",
      "Total processed submissions: 92\n",
      "Total processed submissions: 110\n"
     ]
    },
    {
     "name": "stdout",
     "output_type": "stream",
     "text": [
      "Checking day: 2015-09-02 01:00:00\n"
     ]
    },
    {
     "name": "stderr",
     "output_type": "stream",
     "text": [
      "Total processed submissions: 0\n",
      "Total processed submissions: 1\n",
      "Total processed submissions: 14\n",
      "Total processed submissions: 34\n",
      "Total processed submissions: 67\n",
      "Total processed submissions: 94\n",
      "Total processed submissions: 102\n"
     ]
    },
    {
     "name": "stdout",
     "output_type": "stream",
     "text": [
      "Checking day: 2015-09-03 01:00:00\n"
     ]
    },
    {
     "name": "stderr",
     "output_type": "stream",
     "text": [
      "Total processed submissions: 0\n",
      "Total processed submissions: 1\n",
      "Total processed submissions: 9\n",
      "Total processed submissions: 24\n",
      "Total processed submissions: 43\n",
      "Total processed submissions: 71\n",
      "Total processed submissions: 79\n"
     ]
    },
    {
     "name": "stdout",
     "output_type": "stream",
     "text": [
      "Checking day: 2015-09-04 01:00:00\n"
     ]
    },
    {
     "name": "stderr",
     "output_type": "stream",
     "text": [
      "Total processed submissions: 0\n",
      "Total processed submissions: 0\n",
      "Total processed submissions: 6\n",
      "Total processed submissions: 24\n",
      "Total processed submissions: 33\n",
      "Total processed submissions: 69\n",
      "Total processed submissions: 75\n"
     ]
    },
    {
     "name": "stdout",
     "output_type": "stream",
     "text": [
      "Checking day: 2015-09-05 01:00:00\n"
     ]
    },
    {
     "name": "stderr",
     "output_type": "stream",
     "text": [
      "Total processed submissions: 0\n",
      "Total processed submissions: 1\n",
      "Total processed submissions: 8\n",
      "Total processed submissions: 21\n",
      "Total processed submissions: 37\n",
      "Total processed submissions: 50\n",
      "Total processed submissions: 54\n"
     ]
    },
    {
     "name": "stdout",
     "output_type": "stream",
     "text": [
      "Checking day: 2015-09-06 01:00:00\n"
     ]
    },
    {
     "name": "stderr",
     "output_type": "stream",
     "text": [
      "Total processed submissions: 0\n",
      "Total processed submissions: 0\n",
      "Total processed submissions: 6\n",
      "Total processed submissions: 12\n",
      "Total processed submissions: 40\n",
      "Total processed submissions: 58\n",
      "Total processed submissions: 62\n"
     ]
    },
    {
     "name": "stdout",
     "output_type": "stream",
     "text": [
      "Checking day: 2015-09-07 01:00:00\n"
     ]
    },
    {
     "name": "stderr",
     "output_type": "stream",
     "text": [
      "Total processed submissions: 0\n",
      "Total processed submissions: 1\n",
      "Total processed submissions: 7\n",
      "Total processed submissions: 17\n",
      "Total processed submissions: 44\n",
      "Total processed submissions: 63\n",
      "Total processed submissions: 66\n"
     ]
    },
    {
     "name": "stdout",
     "output_type": "stream",
     "text": [
      "Checking day: 2015-09-08 01:00:00\n"
     ]
    },
    {
     "name": "stderr",
     "output_type": "stream",
     "text": [
      "Total processed submissions: 0\n",
      "Total processed submissions: 2\n",
      "Total processed submissions: 12\n",
      "Total processed submissions: 31\n",
      "Total processed submissions: 45\n",
      "Total processed submissions: 64\n",
      "Total processed submissions: 66\n"
     ]
    },
    {
     "name": "stdout",
     "output_type": "stream",
     "text": [
      "Checking day: 2015-09-09 01:00:00\n"
     ]
    },
    {
     "name": "stderr",
     "output_type": "stream",
     "text": [
      "Total processed submissions: 0\n",
      "Total processed submissions: 1\n",
      "Total processed submissions: 10\n",
      "Total processed submissions: 35\n",
      "Total processed submissions: 56\n",
      "Total processed submissions: 77\n",
      "Total processed submissions: 88\n"
     ]
    },
    {
     "name": "stdout",
     "output_type": "stream",
     "text": [
      "Checking day: 2015-09-10 01:00:00\n"
     ]
    },
    {
     "name": "stderr",
     "output_type": "stream",
     "text": [
      "Total processed submissions: 0\n",
      "Total processed submissions: 0\n",
      "Total processed submissions: 10\n",
      "Total processed submissions: 20\n",
      "Total processed submissions: 45\n",
      "Total processed submissions: 64\n",
      "Total processed submissions: 66\n"
     ]
    },
    {
     "name": "stdout",
     "output_type": "stream",
     "text": [
      "Checking day: 2015-09-11 01:00:00\n"
     ]
    },
    {
     "name": "stderr",
     "output_type": "stream",
     "text": [
      "Total processed submissions: 0\n",
      "Total processed submissions: 1\n",
      "Total processed submissions: 11\n",
      "Total processed submissions: 31\n",
      "Total processed submissions: 44\n",
      "Total processed submissions: 75\n",
      "Total processed submissions: 85\n"
     ]
    },
    {
     "name": "stdout",
     "output_type": "stream",
     "text": [
      "Checking day: 2015-09-12 01:00:00\n"
     ]
    },
    {
     "name": "stderr",
     "output_type": "stream",
     "text": [
      "Total processed submissions: 0\n",
      "Total processed submissions: 0\n",
      "Total processed submissions: 18\n",
      "Total processed submissions: 38\n",
      "Total processed submissions: 67\n",
      "Total processed submissions: 78\n",
      "Total processed submissions: 82\n"
     ]
    },
    {
     "name": "stdout",
     "output_type": "stream",
     "text": [
      "Checking day: 2015-09-13 01:00:00\n"
     ]
    },
    {
     "name": "stderr",
     "output_type": "stream",
     "text": [
      "Total processed submissions: 0\n",
      "Total processed submissions: 0\n",
      "Total processed submissions: 4\n",
      "Total processed submissions: 17\n",
      "Total processed submissions: 47\n",
      "Total processed submissions: 72\n",
      "Total processed submissions: 81\n"
     ]
    },
    {
     "name": "stdout",
     "output_type": "stream",
     "text": [
      "Checking day: 2015-09-14 01:00:00\n"
     ]
    },
    {
     "name": "stderr",
     "output_type": "stream",
     "text": [
      "Total processed submissions: 0\n",
      "Total processed submissions: 2\n",
      "Total processed submissions: 15\n",
      "Total processed submissions: 28\n",
      "Total processed submissions: 44\n",
      "Total processed submissions: 64\n",
      "Total processed submissions: 68\n"
     ]
    },
    {
     "name": "stdout",
     "output_type": "stream",
     "text": [
      "Checking day: 2015-09-15 01:00:00\n"
     ]
    },
    {
     "name": "stderr",
     "output_type": "stream",
     "text": [
      "Total processed submissions: 0\n",
      "Total processed submissions: 0\n",
      "Total processed submissions: 11\n",
      "Total processed submissions: 29\n",
      "Total processed submissions: 40\n",
      "Total processed submissions: 58\n",
      "Total processed submissions: 65\n"
     ]
    },
    {
     "name": "stdout",
     "output_type": "stream",
     "text": [
      "Checking day: 2015-09-16 01:00:00\n"
     ]
    },
    {
     "name": "stderr",
     "output_type": "stream",
     "text": [
      "Total processed submissions: 0\n",
      "Total processed submissions: 1\n",
      "Total processed submissions: 13\n",
      "Total processed submissions: 38\n",
      "Total processed submissions: 50\n",
      "Total processed submissions: 72\n",
      "Total processed submissions: 83\n"
     ]
    },
    {
     "name": "stdout",
     "output_type": "stream",
     "text": [
      "Checking day: 2015-09-17 01:00:00\n"
     ]
    },
    {
     "name": "stderr",
     "output_type": "stream",
     "text": [
      "Total processed submissions: 0\n",
      "Total processed submissions: 0\n",
      "Total processed submissions: 9\n",
      "Total processed submissions: 28\n",
      "Total processed submissions: 50\n",
      "Total processed submissions: 86\n",
      "Total processed submissions: 91\n"
     ]
    },
    {
     "name": "stdout",
     "output_type": "stream",
     "text": [
      "Checking day: 2015-09-18 01:00:00\n"
     ]
    },
    {
     "name": "stderr",
     "output_type": "stream",
     "text": [
      "Total processed submissions: 0\n",
      "Total processed submissions: 2\n",
      "Total processed submissions: 10\n",
      "Total processed submissions: 17\n",
      "Total processed submissions: 35\n",
      "Total processed submissions: 58\n",
      "Total processed submissions: 61\n"
     ]
    },
    {
     "name": "stdout",
     "output_type": "stream",
     "text": [
      "Checking day: 2015-09-19 01:00:00\n"
     ]
    },
    {
     "name": "stderr",
     "output_type": "stream",
     "text": [
      "Total processed submissions: 0\n",
      "Total processed submissions: 1\n",
      "Total processed submissions: 7\n",
      "Total processed submissions: 14\n",
      "Total processed submissions: 30\n",
      "Total processed submissions: 44\n",
      "Total processed submissions: 50\n"
     ]
    },
    {
     "name": "stdout",
     "output_type": "stream",
     "text": [
      "Checking day: 2015-09-20 01:00:00\n"
     ]
    },
    {
     "name": "stderr",
     "output_type": "stream",
     "text": [
      "Total processed submissions: 0\n",
      "Total processed submissions: 2\n",
      "Total processed submissions: 7\n",
      "Total processed submissions: 15\n",
      "Total processed submissions: 46\n",
      "Total processed submissions: 61\n",
      "Total processed submissions: 66\n"
     ]
    },
    {
     "name": "stdout",
     "output_type": "stream",
     "text": [
      "Checking day: 2015-09-21 01:00:00\n"
     ]
    },
    {
     "name": "stderr",
     "output_type": "stream",
     "text": [
      "Total processed submissions: 0\n",
      "Total processed submissions: 0\n",
      "Total processed submissions: 4\n",
      "Total processed submissions: 19\n",
      "Total processed submissions: 42\n",
      "Total processed submissions: 65\n",
      "Total processed submissions: 67\n"
     ]
    },
    {
     "name": "stdout",
     "output_type": "stream",
     "text": [
      "Checking day: 2015-09-22 01:00:00\n"
     ]
    },
    {
     "name": "stderr",
     "output_type": "stream",
     "text": [
      "Total processed submissions: 0\n",
      "Total processed submissions: 0\n",
      "Total processed submissions: 8\n",
      "Total processed submissions: 34\n",
      "Total processed submissions: 53\n",
      "Total processed submissions: 80\n",
      "Total processed submissions: 83\n"
     ]
    },
    {
     "name": "stdout",
     "output_type": "stream",
     "text": [
      "Checking day: 2015-09-23 01:00:00\n"
     ]
    },
    {
     "name": "stderr",
     "output_type": "stream",
     "text": [
      "Total processed submissions: 0\n",
      "Total processed submissions: 0\n",
      "Total processed submissions: 7\n",
      "Total processed submissions: 19\n",
      "Total processed submissions: 41\n",
      "Total processed submissions: 59\n",
      "Total processed submissions: 63\n"
     ]
    },
    {
     "name": "stdout",
     "output_type": "stream",
     "text": [
      "Checking day: 2015-09-24 01:00:00\n"
     ]
    },
    {
     "name": "stderr",
     "output_type": "stream",
     "text": [
      "Total processed submissions: 0\n",
      "Total processed submissions: 2\n",
      "Total processed submissions: 13\n",
      "Total processed submissions: 22\n",
      "Total processed submissions: 48\n",
      "Total processed submissions: 75\n",
      "Total processed submissions: 86\n"
     ]
    },
    {
     "name": "stdout",
     "output_type": "stream",
     "text": [
      "Checking day: 2015-09-25 01:00:00\n"
     ]
    },
    {
     "name": "stderr",
     "output_type": "stream",
     "text": [
      "Total processed submissions: 0\n",
      "Total processed submissions: 3\n",
      "Total processed submissions: 16\n",
      "Total processed submissions: 37\n",
      "Total processed submissions: 51\n",
      "Total processed submissions: 83\n",
      "Total processed submissions: 87\n"
     ]
    },
    {
     "name": "stdout",
     "output_type": "stream",
     "text": [
      "Checking day: 2015-09-26 01:00:00\n"
     ]
    },
    {
     "name": "stderr",
     "output_type": "stream",
     "text": [
      "Total processed submissions: 0\n",
      "Total processed submissions: 1\n",
      "Total processed submissions: 8\n",
      "Total processed submissions: 24\n",
      "Total processed submissions: 54\n",
      "Total processed submissions: 79\n",
      "Total processed submissions: 83\n"
     ]
    },
    {
     "name": "stdout",
     "output_type": "stream",
     "text": [
      "Checking day: 2015-09-27 01:00:00\n"
     ]
    },
    {
     "name": "stderr",
     "output_type": "stream",
     "text": [
      "Total processed submissions: 0\n",
      "Total processed submissions: 3\n",
      "Total processed submissions: 13\n",
      "Total processed submissions: 31\n",
      "Total processed submissions: 74\n",
      "Total processed submissions: 91\n",
      "Total processed submissions: 101\n"
     ]
    },
    {
     "name": "stdout",
     "output_type": "stream",
     "text": [
      "Checking day: 2015-09-28 01:00:00\n"
     ]
    },
    {
     "name": "stderr",
     "output_type": "stream",
     "text": [
      "Total processed submissions: 0\n",
      "Total processed submissions: 2\n",
      "Total processed submissions: 9\n",
      "Total processed submissions: 35\n",
      "Total processed submissions: 52\n",
      "Total processed submissions: 80\n",
      "Total processed submissions: 84\n"
     ]
    },
    {
     "name": "stdout",
     "output_type": "stream",
     "text": [
      "Checking day: 2015-09-29 01:00:00\n"
     ]
    },
    {
     "name": "stderr",
     "output_type": "stream",
     "text": [
      "Total processed submissions: 0\n",
      "Total processed submissions: 5\n",
      "Total processed submissions: 22\n",
      "Total processed submissions: 37\n",
      "Total processed submissions: 59\n",
      "Total processed submissions: 91\n",
      "Total processed submissions: 100\n"
     ]
    },
    {
     "name": "stdout",
     "output_type": "stream",
     "text": [
      "Checking day: 2015-09-30 01:00:00\n"
     ]
    },
    {
     "name": "stderr",
     "output_type": "stream",
     "text": [
      "Total processed submissions: 0\n",
      "Total processed submissions: 4\n",
      "Total processed submissions: 21\n",
      "Total processed submissions: 42\n",
      "Total processed submissions: 75\n",
      "Total processed submissions: 116\n",
      "Total processed submissions: 134\n"
     ]
    },
    {
     "name": "stdout",
     "output_type": "stream",
     "text": [
      "Checking day: 2015-10-01 01:00:00\n"
     ]
    },
    {
     "name": "stderr",
     "output_type": "stream",
     "text": [
      "Total processed submissions: 0\n",
      "Total processed submissions: 1\n",
      "Total processed submissions: 17\n",
      "Total processed submissions: 29\n",
      "Total processed submissions: 47\n",
      "Total processed submissions: 84\n",
      "Total processed submissions: 96\n"
     ]
    },
    {
     "name": "stdout",
     "output_type": "stream",
     "text": [
      "Checking day: 2015-10-02 01:00:00\n"
     ]
    },
    {
     "name": "stderr",
     "output_type": "stream",
     "text": [
      "Total processed submissions: 0\n",
      "Total processed submissions: 2\n",
      "Total processed submissions: 8\n",
      "Total processed submissions: 22\n",
      "Total processed submissions: 45\n",
      "Total processed submissions: 77\n",
      "Total processed submissions: 84\n"
     ]
    },
    {
     "name": "stdout",
     "output_type": "stream",
     "text": [
      "Checking day: 2015-10-03 01:00:00\n"
     ]
    },
    {
     "name": "stderr",
     "output_type": "stream",
     "text": [
      "Total processed submissions: 0\n",
      "Total processed submissions: 1\n",
      "Total processed submissions: 17\n",
      "Total processed submissions: 48\n",
      "Total processed submissions: 68\n",
      "Total processed submissions: 99\n",
      "Total processed submissions: 110\n"
     ]
    },
    {
     "name": "stdout",
     "output_type": "stream",
     "text": [
      "Checking day: 2015-10-04 01:00:00\n"
     ]
    },
    {
     "name": "stderr",
     "output_type": "stream",
     "text": [
      "Total processed submissions: 0\n",
      "Total processed submissions: 2\n",
      "Total processed submissions: 12\n",
      "Total processed submissions: 46\n",
      "Total processed submissions: 117\n",
      "Total processed submissions: 133\n",
      "Total processed submissions: 144\n",
      "Total processed submissions: 152\n"
     ]
    },
    {
     "name": "stdout",
     "output_type": "stream",
     "text": [
      "Checking day: 2015-10-05 01:00:00\n"
     ]
    },
    {
     "name": "stderr",
     "output_type": "stream",
     "text": [
      "Total processed submissions: 0\n",
      "Total processed submissions: 1\n",
      "Total processed submissions: 8\n",
      "Total processed submissions: 25\n",
      "Total processed submissions: 54\n",
      "Total processed submissions: 100\n",
      "Total processed submissions: 104\n"
     ]
    },
    {
     "name": "stdout",
     "output_type": "stream",
     "text": [
      "Checking day: 2015-10-06 01:00:00\n"
     ]
    },
    {
     "name": "stderr",
     "output_type": "stream",
     "text": [
      "Total processed submissions: 0\n",
      "Total processed submissions: 1\n",
      "Total processed submissions: 11\n",
      "Total processed submissions: 22\n",
      "Total processed submissions: 56\n",
      "Total processed submissions: 109\n",
      "Total processed submissions: 112\n",
      "Total processed submissions: 112\n"
     ]
    },
    {
     "name": "stdout",
     "output_type": "stream",
     "text": [
      "Checking day: 2015-10-07 01:00:00\n"
     ]
    },
    {
     "name": "stderr",
     "output_type": "stream",
     "text": [
      "Total processed submissions: 0\n",
      "Total processed submissions: 1\n",
      "Total processed submissions: 11\n",
      "Total processed submissions: 21\n",
      "Total processed submissions: 38\n",
      "Total processed submissions: 78\n",
      "Total processed submissions: 84\n"
     ]
    },
    {
     "name": "stdout",
     "output_type": "stream",
     "text": [
      "Checking day: 2015-10-08 01:00:00\n"
     ]
    },
    {
     "name": "stderr",
     "output_type": "stream",
     "text": [
      "Total processed submissions: 0\n",
      "Total processed submissions: 0\n",
      "Total processed submissions: 3\n",
      "Total processed submissions: 13\n",
      "Total processed submissions: 38\n",
      "Total processed submissions: 73\n",
      "Total processed submissions: 87\n"
     ]
    },
    {
     "name": "stdout",
     "output_type": "stream",
     "text": [
      "Checking day: 2015-10-09 01:00:00\n"
     ]
    },
    {
     "name": "stderr",
     "output_type": "stream",
     "text": [
      "Total processed submissions: 0\n",
      "Total processed submissions: 0\n",
      "Total processed submissions: 6\n",
      "Total processed submissions: 17\n",
      "Total processed submissions: 39\n",
      "Total processed submissions: 70\n",
      "Total processed submissions: 80\n"
     ]
    },
    {
     "name": "stdout",
     "output_type": "stream",
     "text": [
      "Checking day: 2015-10-10 01:00:00\n"
     ]
    },
    {
     "name": "stderr",
     "output_type": "stream",
     "text": [
      "Total processed submissions: 0\n",
      "Total processed submissions: 0\n",
      "Total processed submissions: 10\n",
      "Total processed submissions: 15\n",
      "Total processed submissions: 23\n",
      "Total processed submissions: 38\n",
      "Total processed submissions: 46\n"
     ]
    },
    {
     "name": "stdout",
     "output_type": "stream",
     "text": [
      "Checking day: 2015-10-11 01:00:00\n"
     ]
    },
    {
     "name": "stderr",
     "output_type": "stream",
     "text": [
      "Total processed submissions: 0\n",
      "Total processed submissions: 1\n",
      "Total processed submissions: 12\n",
      "Total processed submissions: 28\n",
      "Total processed submissions: 52\n",
      "Total processed submissions: 71\n",
      "Total processed submissions: 83\n"
     ]
    },
    {
     "name": "stdout",
     "output_type": "stream",
     "text": [
      "Checking day: 2015-10-12 01:00:00\n"
     ]
    },
    {
     "name": "stderr",
     "output_type": "stream",
     "text": [
      "Total processed submissions: 0\n",
      "Total processed submissions: 2\n",
      "Total processed submissions: 13\n",
      "Total processed submissions: 29\n",
      "Total processed submissions: 71\n",
      "Total processed submissions: 99\n",
      "Total processed submissions: 113\n"
     ]
    },
    {
     "name": "stdout",
     "output_type": "stream",
     "text": [
      "Checking day: 2015-10-13 01:00:00\n"
     ]
    },
    {
     "name": "stderr",
     "output_type": "stream",
     "text": [
      "Total processed submissions: 0\n",
      "Total processed submissions: 1\n",
      "Total processed submissions: 3\n",
      "Total processed submissions: 18\n",
      "Total processed submissions: 44\n",
      "Total processed submissions: 75\n",
      "Total processed submissions: 82\n"
     ]
    },
    {
     "name": "stdout",
     "output_type": "stream",
     "text": [
      "Checking day: 2015-10-14 01:00:00\n"
     ]
    },
    {
     "name": "stderr",
     "output_type": "stream",
     "text": [
      "Total processed submissions: 0\n",
      "Total processed submissions: 3\n",
      "Total processed submissions: 13\n",
      "Total processed submissions: 44\n",
      "Total processed submissions: 70\n",
      "Total processed submissions: 98\n",
      "Total processed submissions: 104\n"
     ]
    },
    {
     "name": "stdout",
     "output_type": "stream",
     "text": [
      "Checking day: 2015-10-15 01:00:00\n"
     ]
    },
    {
     "name": "stderr",
     "output_type": "stream",
     "text": [
      "Total processed submissions: 0\n",
      "Total processed submissions: 2\n",
      "Total processed submissions: 15\n",
      "Total processed submissions: 30\n",
      "Total processed submissions: 54\n",
      "Total processed submissions: 88\n",
      "Total processed submissions: 100\n"
     ]
    },
    {
     "name": "stdout",
     "output_type": "stream",
     "text": [
      "Checking day: 2015-10-16 01:00:00\n"
     ]
    },
    {
     "name": "stderr",
     "output_type": "stream",
     "text": [
      "Total processed submissions: 0\n",
      "Total processed submissions: 0\n",
      "Total processed submissions: 4\n",
      "Total processed submissions: 11\n",
      "Total processed submissions: 32\n",
      "Total processed submissions: 71\n",
      "Total processed submissions: 77\n"
     ]
    },
    {
     "name": "stdout",
     "output_type": "stream",
     "text": [
      "Checking day: 2015-10-17 01:00:00\n"
     ]
    },
    {
     "name": "stderr",
     "output_type": "stream",
     "text": [
      "Total processed submissions: 0\n",
      "Total processed submissions: 0\n",
      "Total processed submissions: 5\n",
      "Total processed submissions: 10\n",
      "Total processed submissions: 28\n",
      "Total processed submissions: 40\n",
      "Total processed submissions: 46\n"
     ]
    },
    {
     "name": "stdout",
     "output_type": "stream",
     "text": [
      "Checking day: 2015-10-18 01:00:00\n"
     ]
    },
    {
     "name": "stderr",
     "output_type": "stream",
     "text": [
      "Total processed submissions: 0\n",
      "Total processed submissions: 0\n",
      "Total processed submissions: 2\n",
      "Total processed submissions: 10\n",
      "Total processed submissions: 23\n",
      "Total processed submissions: 36\n",
      "Total processed submissions: 41\n"
     ]
    },
    {
     "name": "stdout",
     "output_type": "stream",
     "text": [
      "Checking day: 2015-10-19 01:00:00\n"
     ]
    },
    {
     "name": "stderr",
     "output_type": "stream",
     "text": [
      "Total processed submissions: 0\n",
      "Total processed submissions: 1\n",
      "Total processed submissions: 3\n",
      "Total processed submissions: 11\n",
      "Total processed submissions: 37\n",
      "Total processed submissions: 59\n",
      "Total processed submissions: 63\n"
     ]
    },
    {
     "name": "stdout",
     "output_type": "stream",
     "text": [
      "Checking day: 2015-10-20 01:00:00\n"
     ]
    },
    {
     "name": "stderr",
     "output_type": "stream",
     "text": [
      "Total processed submissions: 0\n",
      "Total processed submissions: 0\n",
      "Total processed submissions: 2\n",
      "Total processed submissions: 14\n",
      "Total processed submissions: 39\n",
      "Total processed submissions: 60\n",
      "Total processed submissions: 63\n"
     ]
    },
    {
     "name": "stdout",
     "output_type": "stream",
     "text": [
      "Checking day: 2015-10-21 01:00:00\n"
     ]
    },
    {
     "name": "stderr",
     "output_type": "stream",
     "text": [
      "Total processed submissions: 0\n",
      "Total processed submissions: 0\n",
      "Total processed submissions: 11\n",
      "Total processed submissions: 23\n",
      "Total processed submissions: 50\n",
      "Total processed submissions: 70\n",
      "Total processed submissions: 78\n"
     ]
    },
    {
     "name": "stdout",
     "output_type": "stream",
     "text": [
      "Checking day: 2015-10-22 01:00:00\n"
     ]
    },
    {
     "name": "stderr",
     "output_type": "stream",
     "text": [
      "Total processed submissions: 0\n",
      "Total processed submissions: 0\n",
      "Total processed submissions: 7\n",
      "Total processed submissions: 16\n",
      "Total processed submissions: 30\n",
      "Total processed submissions: 60\n",
      "Total processed submissions: 68\n"
     ]
    },
    {
     "name": "stdout",
     "output_type": "stream",
     "text": [
      "Checking day: 2015-10-23 01:00:00\n"
     ]
    },
    {
     "name": "stderr",
     "output_type": "stream",
     "text": [
      "Total processed submissions: 0\n",
      "Total processed submissions: 0\n",
      "Total processed submissions: 7\n",
      "Total processed submissions: 12\n",
      "Total processed submissions: 30\n",
      "Total processed submissions: 55\n",
      "Total processed submissions: 58\n"
     ]
    },
    {
     "name": "stdout",
     "output_type": "stream",
     "text": [
      "Checking day: 2015-10-24 01:00:00\n"
     ]
    },
    {
     "name": "stderr",
     "output_type": "stream",
     "text": [
      "Total processed submissions: 0\n",
      "Total processed submissions: 0\n",
      "Total processed submissions: 7\n",
      "Total processed submissions: 14\n",
      "Total processed submissions: 23\n",
      "Total processed submissions: 41\n",
      "Total processed submissions: 53\n"
     ]
    },
    {
     "name": "stdout",
     "output_type": "stream",
     "text": [
      "Checking day: 2015-10-25 01:00:00\n"
     ]
    },
    {
     "name": "stderr",
     "output_type": "stream",
     "text": [
      "Total processed submissions: 0\n",
      "Total processed submissions: 0\n",
      "Total processed submissions: 0\n",
      "Total processed submissions: 3\n",
      "Total processed submissions: 13\n",
      "Total processed submissions: 22\n",
      "Total processed submissions: 24\n"
     ]
    },
    {
     "name": "stdout",
     "output_type": "stream",
     "text": [
      "Checking day: 2015-10-26 01:00:00\n"
     ]
    },
    {
     "name": "stderr",
     "output_type": "stream",
     "text": [
      "Total processed submissions: 0\n",
      "Total processed submissions: 1\n",
      "Total processed submissions: 2\n",
      "Total processed submissions: 12\n",
      "Total processed submissions: 28\n",
      "Total processed submissions: 49\n",
      "Total processed submissions: 55\n"
     ]
    },
    {
     "name": "stdout",
     "output_type": "stream",
     "text": [
      "Checking day: 2015-10-27 01:00:00\n"
     ]
    },
    {
     "name": "stderr",
     "output_type": "stream",
     "text": [
      "Total processed submissions: 0\n",
      "Total processed submissions: 0\n",
      "Total processed submissions: 9\n",
      "Total processed submissions: 24\n",
      "Total processed submissions: 44\n",
      "Total processed submissions: 72\n",
      "Total processed submissions: 76\n"
     ]
    },
    {
     "name": "stdout",
     "output_type": "stream",
     "text": [
      "Checking day: 2015-10-28 01:00:00\n"
     ]
    },
    {
     "name": "stderr",
     "output_type": "stream",
     "text": [
      "Total processed submissions: 0\n",
      "Total processed submissions: 2\n",
      "Total processed submissions: 12\n",
      "Total processed submissions: 22\n",
      "Total processed submissions: 39\n",
      "Total processed submissions: 58\n",
      "Total processed submissions: 65\n"
     ]
    },
    {
     "name": "stdout",
     "output_type": "stream",
     "text": [
      "Checking day: 2015-10-29 01:00:00\n"
     ]
    },
    {
     "name": "stderr",
     "output_type": "stream",
     "text": [
      "Total processed submissions: 0\n",
      "Total processed submissions: 0\n",
      "Total processed submissions: 1\n",
      "Total processed submissions: 6\n",
      "Total processed submissions: 16\n",
      "Total processed submissions: 37\n",
      "Total processed submissions: 41\n"
     ]
    },
    {
     "name": "stdout",
     "output_type": "stream",
     "text": [
      "Checking day: 2015-10-30 01:00:00\n"
     ]
    },
    {
     "name": "stderr",
     "output_type": "stream",
     "text": [
      "Total processed submissions: 0\n",
      "Total processed submissions: 0\n",
      "Total processed submissions: 3\n",
      "Total processed submissions: 8\n",
      "Total processed submissions: 18\n",
      "Total processed submissions: 34\n",
      "Total processed submissions: 36\n"
     ]
    },
    {
     "name": "stdout",
     "output_type": "stream",
     "text": [
      "Checking day: 2015-10-31 01:00:00\n"
     ]
    },
    {
     "name": "stderr",
     "output_type": "stream",
     "text": [
      "Total processed submissions: 0\n",
      "Total processed submissions: 0\n",
      "Total processed submissions: 2\n",
      "Total processed submissions: 4\n",
      "Total processed submissions: 20\n",
      "Total processed submissions: 33\n",
      "Total processed submissions: 39\n"
     ]
    },
    {
     "name": "stdout",
     "output_type": "stream",
     "text": [
      "Checking day: 2015-11-01 01:00:00\n"
     ]
    },
    {
     "name": "stderr",
     "output_type": "stream",
     "text": [
      "Total processed submissions: 0\n",
      "Total processed submissions: 0\n",
      "Total processed submissions: 2\n",
      "Total processed submissions: 8\n",
      "Total processed submissions: 16\n",
      "Total processed submissions: 29\n",
      "Total processed submissions: 37\n"
     ]
    },
    {
     "name": "stdout",
     "output_type": "stream",
     "text": [
      "Checking day: 2015-11-02 00:00:00\n"
     ]
    },
    {
     "name": "stderr",
     "output_type": "stream",
     "text": [
      "Total processed submissions: 0\n",
      "Total processed submissions: 2\n",
      "Total processed submissions: 11\n",
      "Total processed submissions: 26\n",
      "Total processed submissions: 50\n",
      "Total processed submissions: 100\n",
      "Total processed submissions: 121\n",
      "Total processed submissions: 121\n"
     ]
    },
    {
     "name": "stdout",
     "output_type": "stream",
     "text": [
      "Checking day: 2015-11-03 00:00:00\n"
     ]
    },
    {
     "name": "stderr",
     "output_type": "stream",
     "text": [
      "Total processed submissions: 0\n",
      "Total processed submissions: 0\n",
      "Total processed submissions: 2\n",
      "Total processed submissions: 12\n",
      "Total processed submissions: 35\n",
      "Total processed submissions: 58\n",
      "Total processed submissions: 67\n"
     ]
    },
    {
     "name": "stdout",
     "output_type": "stream",
     "text": [
      "Checking day: 2015-11-04 00:00:00\n"
     ]
    },
    {
     "name": "stderr",
     "output_type": "stream",
     "text": [
      "Total processed submissions: 0\n",
      "Total processed submissions: 0\n",
      "Total processed submissions: 3\n",
      "Total processed submissions: 13\n",
      "Total processed submissions: 23\n",
      "Total processed submissions: 44\n",
      "Total processed submissions: 50\n"
     ]
    },
    {
     "name": "stdout",
     "output_type": "stream",
     "text": [
      "Checking day: 2015-11-05 00:00:00\n"
     ]
    },
    {
     "name": "stderr",
     "output_type": "stream",
     "text": [
      "Total processed submissions: 0\n",
      "Total processed submissions: 0\n",
      "Total processed submissions: 2\n",
      "Total processed submissions: 7\n",
      "Total processed submissions: 22\n",
      "Total processed submissions: 47\n",
      "Total processed submissions: 55\n"
     ]
    },
    {
     "name": "stdout",
     "output_type": "stream",
     "text": [
      "Checking day: 2015-11-06 00:00:00\n"
     ]
    },
    {
     "name": "stderr",
     "output_type": "stream",
     "text": [
      "Total processed submissions: 0\n",
      "Total processed submissions: 0\n",
      "Total processed submissions: 2\n",
      "Total processed submissions: 5\n",
      "Total processed submissions: 21\n",
      "Total processed submissions: 41\n",
      "Total processed submissions: 45\n"
     ]
    },
    {
     "name": "stdout",
     "output_type": "stream",
     "text": [
      "Checking day: 2015-11-07 00:00:00\n"
     ]
    },
    {
     "name": "stderr",
     "output_type": "stream",
     "text": [
      "Total processed submissions: 0\n",
      "Total processed submissions: 0\n",
      "Total processed submissions: 2\n",
      "Total processed submissions: 9\n",
      "Total processed submissions: 21\n",
      "Total processed submissions: 33\n",
      "Total processed submissions: 34\n"
     ]
    },
    {
     "name": "stdout",
     "output_type": "stream",
     "text": [
      "Checking day: 2015-11-08 00:00:00\n"
     ]
    },
    {
     "name": "stderr",
     "output_type": "stream",
     "text": [
      "Total processed submissions: 0\n",
      "Total processed submissions: 0\n",
      "Total processed submissions: 3\n",
      "Total processed submissions: 8\n",
      "Total processed submissions: 19\n",
      "Total processed submissions: 33\n",
      "Total processed submissions: 38\n"
     ]
    },
    {
     "name": "stdout",
     "output_type": "stream",
     "text": [
      "Checking day: 2015-11-09 00:00:00\n"
     ]
    },
    {
     "name": "stderr",
     "output_type": "stream",
     "text": [
      "Total processed submissions: 0\n",
      "Total processed submissions: 2\n",
      "Total processed submissions: 6\n",
      "Total processed submissions: 11\n",
      "Total processed submissions: 35\n",
      "Total processed submissions: 58\n",
      "Total processed submissions: 61\n"
     ]
    },
    {
     "name": "stdout",
     "output_type": "stream",
     "text": [
      "Checking day: 2015-11-10 00:00:00\n"
     ]
    },
    {
     "name": "stderr",
     "output_type": "stream",
     "text": [
      "Total processed submissions: 0\n",
      "Total processed submissions: 0\n",
      "Total processed submissions: 5\n",
      "Total processed submissions: 18\n",
      "Total processed submissions: 38\n",
      "Total processed submissions: 54\n",
      "Total processed submissions: 59\n"
     ]
    },
    {
     "name": "stdout",
     "output_type": "stream",
     "text": [
      "Checking day: 2015-11-11 00:00:00\n"
     ]
    },
    {
     "name": "stderr",
     "output_type": "stream",
     "text": [
      "Total processed submissions: 0\n",
      "Total processed submissions: 0\n",
      "Total processed submissions: 5\n",
      "Total processed submissions: 17\n",
      "Total processed submissions: 35\n",
      "Total processed submissions: 64\n",
      "Total processed submissions: 67\n"
     ]
    },
    {
     "name": "stdout",
     "output_type": "stream",
     "text": [
      "Checking day: 2015-11-12 00:00:00\n"
     ]
    },
    {
     "name": "stderr",
     "output_type": "stream",
     "text": [
      "Total processed submissions: 0\n",
      "Total processed submissions: 2\n",
      "Total processed submissions: 5\n",
      "Total processed submissions: 23\n",
      "Total processed submissions: 39\n",
      "Total processed submissions: 54\n",
      "Total processed submissions: 62\n"
     ]
    },
    {
     "name": "stdout",
     "output_type": "stream",
     "text": [
      "Checking day: 2015-11-13 00:00:00\n"
     ]
    },
    {
     "name": "stderr",
     "output_type": "stream",
     "text": [
      "Total processed submissions: 0\n",
      "Total processed submissions: 1\n",
      "Total processed submissions: 3\n",
      "Total processed submissions: 7\n",
      "Total processed submissions: 19\n",
      "Total processed submissions: 43\n",
      "Total processed submissions: 50\n"
     ]
    },
    {
     "name": "stdout",
     "output_type": "stream",
     "text": [
      "Checking day: 2015-11-14 00:00:00\n"
     ]
    },
    {
     "name": "stderr",
     "output_type": "stream",
     "text": [
      "Total processed submissions: 0\n",
      "Total processed submissions: 0\n",
      "Total processed submissions: 7\n",
      "Total processed submissions: 14\n",
      "Total processed submissions: 30\n",
      "Total processed submissions: 43\n",
      "Total processed submissions: 51\n"
     ]
    },
    {
     "name": "stdout",
     "output_type": "stream",
     "text": [
      "Checking day: 2015-11-15 00:00:00\n"
     ]
    },
    {
     "name": "stderr",
     "output_type": "stream",
     "text": [
      "Total processed submissions: 0\n",
      "Total processed submissions: 0\n",
      "Total processed submissions: 4\n",
      "Total processed submissions: 9\n",
      "Total processed submissions: 21\n",
      "Total processed submissions: 30\n",
      "Total processed submissions: 35\n"
     ]
    },
    {
     "name": "stdout",
     "output_type": "stream",
     "text": [
      "Checking day: 2015-11-16 00:00:00\n"
     ]
    },
    {
     "name": "stderr",
     "output_type": "stream",
     "text": [
      "Total processed submissions: 0\n",
      "Total processed submissions: 0\n",
      "Total processed submissions: 3\n",
      "Total processed submissions: 13\n",
      "Total processed submissions: 30\n",
      "Total processed submissions: 47\n",
      "Total processed submissions: 54\n"
     ]
    },
    {
     "name": "stdout",
     "output_type": "stream",
     "text": [
      "Checking day: 2015-11-17 00:00:00\n"
     ]
    },
    {
     "name": "stderr",
     "output_type": "stream",
     "text": [
      "Total processed submissions: 0\n",
      "Total processed submissions: 1\n",
      "Total processed submissions: 6\n",
      "Total processed submissions: 15\n",
      "Total processed submissions: 30\n",
      "Total processed submissions: 43\n",
      "Total processed submissions: 49\n"
     ]
    },
    {
     "name": "stdout",
     "output_type": "stream",
     "text": [
      "Checking day: 2015-11-18 00:00:00\n"
     ]
    },
    {
     "name": "stderr",
     "output_type": "stream",
     "text": [
      "Total processed submissions: 0\n",
      "Total processed submissions: 1\n",
      "Total processed submissions: 4\n",
      "Total processed submissions: 16\n",
      "Total processed submissions: 39\n",
      "Total processed submissions: 61\n",
      "Total processed submissions: 62\n"
     ]
    },
    {
     "name": "stdout",
     "output_type": "stream",
     "text": [
      "Checking day: 2015-11-19 00:00:00\n"
     ]
    },
    {
     "name": "stderr",
     "output_type": "stream",
     "text": [
      "Total processed submissions: 0\n",
      "Total processed submissions: 0\n",
      "Total processed submissions: 4\n",
      "Total processed submissions: 15\n",
      "Total processed submissions: 36\n",
      "Total processed submissions: 57\n",
      "Total processed submissions: 59\n"
     ]
    },
    {
     "name": "stdout",
     "output_type": "stream",
     "text": [
      "Checking day: 2015-11-20 00:00:00\n"
     ]
    },
    {
     "name": "stderr",
     "output_type": "stream",
     "text": [
      "Total processed submissions: 0\n",
      "Total processed submissions: 0\n",
      "Total processed submissions: 6\n",
      "Total processed submissions: 15\n",
      "Total processed submissions: 34\n",
      "Total processed submissions: 58\n",
      "Total processed submissions: 64\n"
     ]
    },
    {
     "name": "stdout",
     "output_type": "stream",
     "text": [
      "Checking day: 2015-11-21 00:00:00\n"
     ]
    },
    {
     "name": "stderr",
     "output_type": "stream",
     "text": [
      "Total processed submissions: 0\n",
      "Total processed submissions: 0\n",
      "Total processed submissions: 2\n",
      "Total processed submissions: 8\n",
      "Total processed submissions: 17\n",
      "Total processed submissions: 28\n",
      "Total processed submissions: 30\n"
     ]
    },
    {
     "name": "stdout",
     "output_type": "stream",
     "text": [
      "Checking day: 2015-11-22 00:00:00\n"
     ]
    },
    {
     "name": "stderr",
     "output_type": "stream",
     "text": [
      "Total processed submissions: 0\n",
      "Total processed submissions: 0\n",
      "Total processed submissions: 2\n",
      "Total processed submissions: 9\n",
      "Total processed submissions: 14\n",
      "Total processed submissions: 23\n",
      "Total processed submissions: 29\n"
     ]
    },
    {
     "name": "stdout",
     "output_type": "stream",
     "text": [
      "Checking day: 2015-11-23 00:00:00\n"
     ]
    },
    {
     "name": "stderr",
     "output_type": "stream",
     "text": [
      "Total processed submissions: 0\n",
      "Total processed submissions: 0\n",
      "Total processed submissions: 6\n",
      "Total processed submissions: 10\n",
      "Total processed submissions: 25\n",
      "Total processed submissions: 37\n",
      "Total processed submissions: 37\n"
     ]
    },
    {
     "name": "stdout",
     "output_type": "stream",
     "text": [
      "Checking day: 2015-11-24 00:00:00\n"
     ]
    },
    {
     "name": "stderr",
     "output_type": "stream",
     "text": [
      "Total processed submissions: 0\n",
      "Total processed submissions: 0\n",
      "Total processed submissions: 2\n",
      "Total processed submissions: 7\n",
      "Total processed submissions: 22\n",
      "Total processed submissions: 40\n",
      "Total processed submissions: 48\n"
     ]
    },
    {
     "name": "stdout",
     "output_type": "stream",
     "text": [
      "Checking day: 2015-11-25 00:00:00\n"
     ]
    },
    {
     "name": "stderr",
     "output_type": "stream",
     "text": [
      "Total processed submissions: 0\n",
      "Total processed submissions: 0\n",
      "Total processed submissions: 1\n",
      "Total processed submissions: 5\n",
      "Total processed submissions: 21\n",
      "Total processed submissions: 38\n",
      "Total processed submissions: 41\n"
     ]
    },
    {
     "name": "stdout",
     "output_type": "stream",
     "text": [
      "Checking day: 2015-11-26 00:00:00\n"
     ]
    },
    {
     "name": "stderr",
     "output_type": "stream",
     "text": [
      "Total processed submissions: 0\n",
      "Total processed submissions: 0\n",
      "Total processed submissions: 1\n",
      "Total processed submissions: 6\n",
      "Total processed submissions: 12\n",
      "Total processed submissions: 19\n",
      "Total processed submissions: 19\n"
     ]
    },
    {
     "name": "stdout",
     "output_type": "stream",
     "text": [
      "Checking day: 2015-11-27 00:00:00\n"
     ]
    },
    {
     "name": "stderr",
     "output_type": "stream",
     "text": [
      "Total processed submissions: 0\n",
      "Total processed submissions: 0\n",
      "Total processed submissions: 3\n",
      "Total processed submissions: 8\n",
      "Total processed submissions: 16\n",
      "Total processed submissions: 20\n",
      "Total processed submissions: 22\n"
     ]
    },
    {
     "name": "stdout",
     "output_type": "stream",
     "text": [
      "Checking day: 2015-11-28 00:00:00\n"
     ]
    },
    {
     "name": "stderr",
     "output_type": "stream",
     "text": [
      "Total processed submissions: 0\n",
      "Total processed submissions: 0\n",
      "Total processed submissions: 3\n",
      "Total processed submissions: 5\n",
      "Total processed submissions: 18\n",
      "Total processed submissions: 25\n",
      "Total processed submissions: 30\n"
     ]
    },
    {
     "name": "stdout",
     "output_type": "stream",
     "text": [
      "Checking day: 2015-11-29 00:00:00\n"
     ]
    },
    {
     "name": "stderr",
     "output_type": "stream",
     "text": [
      "Total processed submissions: 0\n",
      "Total processed submissions: 0\n",
      "Total processed submissions: 5\n",
      "Total processed submissions: 11\n",
      "Total processed submissions: 17\n",
      "Total processed submissions: 26\n",
      "Total processed submissions: 31\n"
     ]
    },
    {
     "name": "stdout",
     "output_type": "stream",
     "text": [
      "Checking day: 2015-11-30 00:00:00\n"
     ]
    },
    {
     "name": "stderr",
     "output_type": "stream",
     "text": [
      "Total processed submissions: 0\n",
      "Total processed submissions: 1\n",
      "Total processed submissions: 6\n",
      "Total processed submissions: 16\n",
      "Total processed submissions: 39\n",
      "Total processed submissions: 47\n",
      "Total processed submissions: 51\n"
     ]
    },
    {
     "name": "stdout",
     "output_type": "stream",
     "text": [
      "Checking day: 2015-12-01 00:00:00\n"
     ]
    },
    {
     "name": "stderr",
     "output_type": "stream",
     "text": [
      "Total processed submissions: 0\n",
      "Total processed submissions: 0\n",
      "Total processed submissions: 1\n",
      "Total processed submissions: 20\n",
      "Total processed submissions: 46\n",
      "Total processed submissions: 72\n",
      "Total processed submissions: 79\n"
     ]
    },
    {
     "name": "stdout",
     "output_type": "stream",
     "text": [
      "Checking day: 2015-12-02 00:00:00\n"
     ]
    },
    {
     "name": "stderr",
     "output_type": "stream",
     "text": [
      "Total processed submissions: 0\n",
      "Total processed submissions: 0\n",
      "Total processed submissions: 9\n",
      "Total processed submissions: 21\n",
      "Total processed submissions: 36\n",
      "Total processed submissions: 51\n",
      "Total processed submissions: 56\n"
     ]
    },
    {
     "name": "stdout",
     "output_type": "stream",
     "text": [
      "Checking day: 2015-12-03 00:00:00\n"
     ]
    },
    {
     "name": "stderr",
     "output_type": "stream",
     "text": [
      "Total processed submissions: 0\n",
      "Total processed submissions: 0\n",
      "Total processed submissions: 1\n",
      "Total processed submissions: 8\n",
      "Total processed submissions: 28\n",
      "Total processed submissions: 41\n",
      "Total processed submissions: 45\n"
     ]
    },
    {
     "name": "stdout",
     "output_type": "stream",
     "text": [
      "Checking day: 2015-12-04 00:00:00\n"
     ]
    },
    {
     "name": "stderr",
     "output_type": "stream",
     "text": [
      "Total processed submissions: 0\n",
      "Total processed submissions: 0\n",
      "Total processed submissions: 3\n",
      "Total processed submissions: 19\n",
      "Total processed submissions: 46\n",
      "Total processed submissions: 65\n",
      "Total processed submissions: 70\n"
     ]
    },
    {
     "name": "stdout",
     "output_type": "stream",
     "text": [
      "Checking day: 2015-12-05 00:00:00\n"
     ]
    },
    {
     "name": "stderr",
     "output_type": "stream",
     "text": [
      "Total processed submissions: 0\n",
      "Total processed submissions: 0\n",
      "Total processed submissions: 3\n",
      "Total processed submissions: 8\n",
      "Total processed submissions: 22\n",
      "Total processed submissions: 32\n",
      "Total processed submissions: 37\n"
     ]
    },
    {
     "name": "stdout",
     "output_type": "stream",
     "text": [
      "Checking day: 2015-12-06 00:00:00\n"
     ]
    },
    {
     "name": "stderr",
     "output_type": "stream",
     "text": [
      "Total processed submissions: 0\n",
      "Total processed submissions: 0\n",
      "Total processed submissions: 7\n",
      "Total processed submissions: 17\n",
      "Total processed submissions: 36\n",
      "Total processed submissions: 50\n",
      "Total processed submissions: 55\n"
     ]
    },
    {
     "name": "stdout",
     "output_type": "stream",
     "text": [
      "Checking day: 2015-12-07 00:00:00\n"
     ]
    },
    {
     "name": "stderr",
     "output_type": "stream",
     "text": [
      "Total processed submissions: 0\n",
      "Total processed submissions: 0\n",
      "Total processed submissions: 12\n",
      "Total processed submissions: 27\n",
      "Total processed submissions: 60\n",
      "Total processed submissions: 93\n",
      "Total processed submissions: 101\n"
     ]
    },
    {
     "name": "stdout",
     "output_type": "stream",
     "text": [
      "Checking day: 2015-12-08 00:00:00\n"
     ]
    },
    {
     "name": "stderr",
     "output_type": "stream",
     "text": [
      "Total processed submissions: 0\n",
      "Total processed submissions: 0\n",
      "Total processed submissions: 11\n",
      "Total processed submissions: 52\n",
      "Total processed submissions: 99\n",
      "Total processed submissions: 139\n",
      "Total processed submissions: 147\n"
     ]
    },
    {
     "name": "stdout",
     "output_type": "stream",
     "text": [
      "Checking day: 2015-12-09 00:00:00\n"
     ]
    },
    {
     "name": "stderr",
     "output_type": "stream",
     "text": [
      "Total processed submissions: 0\n",
      "Total processed submissions: 0\n",
      "Total processed submissions: 8\n",
      "Total processed submissions: 35\n",
      "Total processed submissions: 94\n",
      "Total processed submissions: 134\n",
      "Total processed submissions: 146\n",
      "Total processed submissions: 154\n"
     ]
    },
    {
     "name": "stdout",
     "output_type": "stream",
     "text": [
      "Checking day: 2015-12-10 00:00:00\n"
     ]
    },
    {
     "name": "stderr",
     "output_type": "stream",
     "text": [
      "Total processed submissions: 0\n",
      "Total processed submissions: 1\n",
      "Total processed submissions: 5\n",
      "Total processed submissions: 20\n",
      "Total processed submissions: 54\n",
      "Total processed submissions: 92\n",
      "Total processed submissions: 97\n"
     ]
    },
    {
     "name": "stdout",
     "output_type": "stream",
     "text": [
      "Checking day: 2015-12-11 00:00:00\n"
     ]
    },
    {
     "name": "stderr",
     "output_type": "stream",
     "text": [
      "Total processed submissions: 0\n",
      "Total processed submissions: 2\n",
      "Total processed submissions: 4\n",
      "Total processed submissions: 12\n",
      "Total processed submissions: 38\n",
      "Total processed submissions: 71\n",
      "Total processed submissions: 72\n"
     ]
    },
    {
     "name": "stdout",
     "output_type": "stream",
     "text": [
      "Checking day: 2015-12-12 00:00:00\n"
     ]
    },
    {
     "name": "stderr",
     "output_type": "stream",
     "text": [
      "Total processed submissions: 0\n",
      "Total processed submissions: 1\n",
      "Total processed submissions: 3\n",
      "Total processed submissions: 5\n",
      "Total processed submissions: 13\n",
      "Total processed submissions: 29\n",
      "Total processed submissions: 37\n"
     ]
    },
    {
     "name": "stdout",
     "output_type": "stream",
     "text": [
      "Checking day: 2015-12-13 00:00:00\n"
     ]
    },
    {
     "name": "stderr",
     "output_type": "stream",
     "text": [
      "Total processed submissions: 0\n",
      "Total processed submissions: 0\n",
      "Total processed submissions: 3\n",
      "Total processed submissions: 10\n",
      "Total processed submissions: 23\n",
      "Total processed submissions: 33\n",
      "Total processed submissions: 36\n"
     ]
    },
    {
     "name": "stdout",
     "output_type": "stream",
     "text": [
      "Checking day: 2015-12-14 00:00:00\n"
     ]
    },
    {
     "name": "stderr",
     "output_type": "stream",
     "text": [
      "Total processed submissions: 0\n",
      "Total processed submissions: 0\n",
      "Total processed submissions: 9\n",
      "Total processed submissions: 15\n",
      "Total processed submissions: 37\n",
      "Total processed submissions: 55\n",
      "Total processed submissions: 56\n"
     ]
    },
    {
     "name": "stdout",
     "output_type": "stream",
     "text": [
      "Checking day: 2015-12-15 00:00:00\n"
     ]
    },
    {
     "name": "stderr",
     "output_type": "stream",
     "text": [
      "Total processed submissions: 0\n",
      "Total processed submissions: 3\n",
      "Total processed submissions: 4\n",
      "Total processed submissions: 9\n",
      "Total processed submissions: 28\n",
      "Total processed submissions: 41\n",
      "Total processed submissions: 47\n"
     ]
    },
    {
     "name": "stdout",
     "output_type": "stream",
     "text": [
      "Checking day: 2015-12-16 00:00:00\n"
     ]
    },
    {
     "name": "stderr",
     "output_type": "stream",
     "text": [
      "Total processed submissions: 0\n",
      "Total processed submissions: 0\n",
      "Total processed submissions: 3\n",
      "Total processed submissions: 9\n",
      "Total processed submissions: 33\n",
      "Total processed submissions: 58\n",
      "Total processed submissions: 67\n"
     ]
    },
    {
     "name": "stdout",
     "output_type": "stream",
     "text": [
      "Checking day: 2015-12-17 00:00:00\n"
     ]
    },
    {
     "name": "stderr",
     "output_type": "stream",
     "text": [
      "Total processed submissions: 0\n",
      "Total processed submissions: 0\n",
      "Total processed submissions: 2\n",
      "Total processed submissions: 8\n",
      "Total processed submissions: 22\n",
      "Total processed submissions: 45\n",
      "Total processed submissions: 48\n"
     ]
    },
    {
     "name": "stdout",
     "output_type": "stream",
     "text": [
      "Checking day: 2015-12-18 00:00:00\n"
     ]
    },
    {
     "name": "stderr",
     "output_type": "stream",
     "text": [
      "Total processed submissions: 0\n",
      "Total processed submissions: 0\n",
      "Total processed submissions: 2\n",
      "Total processed submissions: 7\n",
      "Total processed submissions: 27\n",
      "Total processed submissions: 42\n",
      "Total processed submissions: 47\n"
     ]
    },
    {
     "name": "stdout",
     "output_type": "stream",
     "text": [
      "Checking day: 2015-12-19 00:00:00\n"
     ]
    },
    {
     "name": "stderr",
     "output_type": "stream",
     "text": [
      "Total processed submissions: 0\n",
      "Total processed submissions: 2\n",
      "Total processed submissions: 6\n",
      "Total processed submissions: 11\n",
      "Total processed submissions: 20\n",
      "Total processed submissions: 35\n",
      "Total processed submissions: 38\n"
     ]
    },
    {
     "name": "stdout",
     "output_type": "stream",
     "text": [
      "Checking day: 2015-12-20 00:00:00\n"
     ]
    },
    {
     "name": "stderr",
     "output_type": "stream",
     "text": [
      "Total processed submissions: 0\n",
      "Total processed submissions: 0\n",
      "Total processed submissions: 4\n",
      "Total processed submissions: 6\n",
      "Total processed submissions: 20\n",
      "Total processed submissions: 27\n",
      "Total processed submissions: 35\n"
     ]
    },
    {
     "name": "stdout",
     "output_type": "stream",
     "text": [
      "Checking day: 2015-12-21 00:00:00\n"
     ]
    },
    {
     "name": "stderr",
     "output_type": "stream",
     "text": [
      "Total processed submissions: 0\n",
      "Total processed submissions: 1\n",
      "Total processed submissions: 5\n",
      "Total processed submissions: 9\n",
      "Total processed submissions: 21\n",
      "Total processed submissions: 35\n",
      "Total processed submissions: 40\n"
     ]
    },
    {
     "name": "stdout",
     "output_type": "stream",
     "text": [
      "Checking day: 2015-12-22 00:00:00\n"
     ]
    },
    {
     "name": "stderr",
     "output_type": "stream",
     "text": [
      "Total processed submissions: 0\n",
      "Total processed submissions: 0\n",
      "Total processed submissions: 0\n",
      "Total processed submissions: 6\n",
      "Total processed submissions: 18\n",
      "Total processed submissions: 42\n",
      "Total processed submissions: 45\n"
     ]
    },
    {
     "name": "stdout",
     "output_type": "stream",
     "text": [
      "Checking day: 2015-12-23 00:00:00\n"
     ]
    },
    {
     "name": "stderr",
     "output_type": "stream",
     "text": [
      "Total processed submissions: 0\n",
      "Total processed submissions: 0\n",
      "Total processed submissions: 3\n",
      "Total processed submissions: 5\n",
      "Total processed submissions: 28\n",
      "Total processed submissions: 43\n",
      "Total processed submissions: 50\n"
     ]
    },
    {
     "name": "stdout",
     "output_type": "stream",
     "text": [
      "Checking day: 2015-12-24 00:00:00\n"
     ]
    },
    {
     "name": "stderr",
     "output_type": "stream",
     "text": [
      "Total processed submissions: 0\n",
      "Total processed submissions: 0\n",
      "Total processed submissions: 4\n",
      "Total processed submissions: 12\n",
      "Total processed submissions: 22\n",
      "Total processed submissions: 29\n",
      "Total processed submissions: 33\n"
     ]
    },
    {
     "name": "stdout",
     "output_type": "stream",
     "text": [
      "Checking day: 2015-12-25 00:00:00\n"
     ]
    },
    {
     "name": "stderr",
     "output_type": "stream",
     "text": [
      "Total processed submissions: 0\n",
      "Total processed submissions: 0\n",
      "Total processed submissions: 2\n",
      "Total processed submissions: 5\n",
      "Total processed submissions: 9\n",
      "Total processed submissions: 14\n",
      "Total processed submissions: 17\n"
     ]
    },
    {
     "name": "stdout",
     "output_type": "stream",
     "text": [
      "Checking day: 2015-12-26 00:00:00\n"
     ]
    },
    {
     "name": "stderr",
     "output_type": "stream",
     "text": [
      "Total processed submissions: 0\n",
      "Total processed submissions: 0\n",
      "Total processed submissions: 1\n",
      "Total processed submissions: 5\n",
      "Total processed submissions: 18\n",
      "Total processed submissions: 23\n",
      "Total processed submissions: 28\n"
     ]
    },
    {
     "name": "stdout",
     "output_type": "stream",
     "text": [
      "Checking day: 2015-12-27 00:00:00\n"
     ]
    },
    {
     "name": "stderr",
     "output_type": "stream",
     "text": [
      "Total processed submissions: 0\n",
      "Total processed submissions: 0\n",
      "Total processed submissions: 0\n",
      "Total processed submissions: 2\n",
      "Total processed submissions: 10\n",
      "Total processed submissions: 19\n",
      "Total processed submissions: 27\n"
     ]
    },
    {
     "name": "stdout",
     "output_type": "stream",
     "text": [
      "Checking day: 2015-12-28 00:00:00\n"
     ]
    },
    {
     "name": "stderr",
     "output_type": "stream",
     "text": [
      "Total processed submissions: 0\n",
      "Total processed submissions: 1\n",
      "Total processed submissions: 3\n",
      "Total processed submissions: 10\n",
      "Total processed submissions: 29\n",
      "Total processed submissions: 43\n",
      "Total processed submissions: 46\n"
     ]
    },
    {
     "name": "stdout",
     "output_type": "stream",
     "text": [
      "Checking day: 2015-12-29 00:00:00\n"
     ]
    },
    {
     "name": "stderr",
     "output_type": "stream",
     "text": [
      "Total processed submissions: 0\n",
      "Total processed submissions: 0\n",
      "Total processed submissions: 7\n",
      "Total processed submissions: 10\n",
      "Total processed submissions: 21\n",
      "Total processed submissions: 35\n",
      "Total processed submissions: 38\n"
     ]
    },
    {
     "name": "stdout",
     "output_type": "stream",
     "text": [
      "Checking day: 2015-12-30 00:00:00\n"
     ]
    },
    {
     "name": "stderr",
     "output_type": "stream",
     "text": [
      "Total processed submissions: 0\n",
      "Total processed submissions: 0\n",
      "Total processed submissions: 2\n",
      "Total processed submissions: 11\n",
      "Total processed submissions: 26\n",
      "Total processed submissions: 38\n",
      "Total processed submissions: 41\n"
     ]
    }
   ],
   "source": [
    "'''\n",
    "File: scrape_reddit.ipynb\n",
    "Purpose: CS 505 Final Project | Scraping reddit.com/r/baseball posts\n",
    "Authors: Benjamin Owens, Jennifer Tsui\n",
    "Last modification: November 11, 2016\n",
    "\n",
    "Description:\n",
    "This is a script that allows one to collect reddit posts from a subreddit (in this case, /r/baseball).\n",
    "The script allows the user to collect data from any time period, specified by the user input. \n",
    "\n",
    "For the purposes of this assignment, we collected posts from the most recent full year (2015). The .csv\n",
    "file derived from the full execution is included in the repository (data.csv), as well as the filtered data\n",
    "that includes only posts including the mentions of teams and cities (posts_with_mentions.csv). \n",
    "The filtering component of the script is not finalized, but the methodology is sound \n",
    "(we'll need to include abbreviations, nicknames, common typos, etc. in the future). \n",
    "\n",
    "The runtime is on the order of 5-10 seconds per day, depending on the activity (number of posts).\n",
    "\n",
    "The raw script is also included as a .py file.\n",
    "\n",
    "'''\n",
    "\n",
    "import praw\n",
    "import pandas as pd\n",
    "import numpy as np\n",
    "import time\n",
    "import datetime\n",
    "import itertools as it\n",
    "\n",
    "\n",
    "print(\"Enter date to start checking:\\n (default 01/01/2015)\")\n",
    "print(\"\")\n",
    "start = ''\n",
    "start = input(\"User input: \")\n",
    "if start == '':\n",
    "    start = \"01/01/2015\"\n",
    "\n",
    "startStamp = int(time.mktime(datetime.datetime.strptime(start, \"%m/%d/%Y\").timetuple()))\n",
    "print(\"Enter number of days to check: [>2] \\n(Default 30)\")\n",
    "numDays = 0\n",
    "numDays = input(\"User input: \")\n",
    "if numDays == 0:\n",
    "    numDays = \"30\"\n",
    "days = [(int(startStamp)+ (86400*i)) for i in range(0,int(numDays))]\n",
    "\n",
    "print(\"Requesting Data \")\n",
    "r = praw.Reddit(user_agent='ben_and_jens_505_project')\n",
    "\n",
    "'''\n",
    "Here we use a helper function from the PRAW library that allows us to get the posts within a certain timestamp.\n",
    "It seems to be asynchronous which is a little strange but it works!\n",
    "'''\n",
    "submissionList = []\n",
    "# Get the first day's data\n",
    "print(\"Checking day: \" + str(datetime.datetime.fromtimestamp(int(days[0]))))\n",
    "submission = praw.helpers.submissions_between(r,r.get_subreddit('baseball'),\n",
    "                                                lowest_timestamp=days[0],highest_timestamp=days[1])\n",
    "\n",
    "\n",
    "thelist = [str(x).split('::') + [str(datetime.datetime.fromtimestamp(int(days[0])))] for x in submission]\n",
    "submissionList += thelist\n",
    "# get the rest of the days' data\n",
    "for i in range(1,len(days[1:])):\n",
    "    print(\"Checking day: \" + str(datetime.datetime.fromtimestamp(int(days[i]))))\n",
    "    submission = praw.helpers.submissions_between(r,r.get_subreddit('baseball'),\n",
    "                                                    lowest_timestamp=days[i],highest_timestamp=days[i+1],\n",
    "                                                    verbosity=1)\n",
    "\n",
    "    #split the string returned and add the date to every row\n",
    "    thelist = [str(x).split('::') + [str(datetime.datetime.fromtimestamp(int(days[i])))] for x in submission]\n",
    "    submissionList += thelist\n",
    "\n",
    "scores = [x[0] for x in submissionList]\n",
    "posts = [x[1] for x in submissionList]\n",
    "dates = [x[2] for x in submissionList]\n",
    "\n"
   ]
  },
  {
   "cell_type": "code",
   "execution_count": 85,
   "metadata": {
    "collapsed": false
   },
   "outputs": [
    {
     "name": "stdout",
     "output_type": "stream",
     "text": [
      "Done writing 'data.csv'\n",
      "Done writing 'posts_with_mentions.csv'\n"
     ]
    }
   ],
   "source": [
    "df = pd.DataFrame()\n",
    "df[\"Score\"] = scores\n",
    "df[\"Title\"] = posts\n",
    "df[\"Date\"] = dates\n",
    "\n",
    "df.to_csv(\"data.csv\")\n",
    "print(\"Done writing 'data.csv'\")\n",
    "\n",
    "# some preprocessing to filter out posts that dont mention a team or city\n",
    "teams = ['Arizona',\n",
    " 'Diamondbacks',\n",
    " 'Atlanta',\n",
    " 'Braves',\n",
    " 'Baltimore',\n",
    " 'Orioles',\n",
    " 'Boston',\n",
    " 'Red',\n",
    " 'Sox',\n",
    " 'Chicago',\n",
    " 'Cubs',\n",
    " 'Chicago',\n",
    " 'White',\n",
    " 'Sox',\n",
    " 'Cincinnati',\n",
    " 'Reds',\n",
    " 'Cleveland',\n",
    " 'Indians',\n",
    " 'Colorado',\n",
    " 'Rockies',\n",
    " 'Detroit',\n",
    " 'Tigers',\n",
    " 'Miami',\n",
    " 'Marlins',\n",
    " 'Houston',\n",
    " 'Astros',\n",
    " 'Kansas',\n",
    " 'City',\n",
    " 'Royals',\n",
    " 'Los',\n",
    " 'Angeles',\n",
    " 'Angels',\n",
    " 'Anaheim',\n",
    " 'Los',\n",
    " 'Angeles',\n",
    " 'Dodgers',\n",
    " 'Milwaukee',\n",
    " 'Brewers',\n",
    " 'Minnesota',\n",
    " 'Twins',\n",
    " 'New',\n",
    " 'York',\n",
    " 'Mets',\n",
    " 'New',\n",
    " 'York',\n",
    " 'YankeesOakland',\n",
    " 'Athletics',\n",
    " 'Philadelphia',\n",
    " 'Phillies',\n",
    " 'Pittsburgh',\n",
    " 'Pirates',\n",
    " 'Saint',\n",
    " 'Louis',\n",
    " 'Cardinals',\n",
    " 'San',\n",
    " 'Diego',\n",
    " 'Padres',\n",
    " 'San',\n",
    " 'Francisco',\n",
    " 'Giants',\n",
    " 'Seattle',\n",
    " 'Mariners',\n",
    " 'Tampa',\n",
    " 'Bay',\n",
    " 'Rays',\n",
    " 'Texas',\n",
    " 'Rangers',\n",
    " 'Toronto',\n",
    " 'Blue',\n",
    " 'Jays',\n",
    " 'Washington',\n",
    " 'Nationals']\n",
    "\n",
    "filtered = df[df['Title'].str.split().apply(lambda x: len(set(x).intersection(set(teams))))>0]\n",
    "filtered.to_csv(\"posts_with_mentions.csv\")          \n",
    "print(\"Done writing 'posts_with_mentions.csv'\")\n",
    "\n",
    "#EOF"
   ]
  }
 ],
 "metadata": {
  "kernelspec": {
   "display_name": "Python 3",
   "language": "python",
   "name": "python3"
  },
  "language_info": {
   "codemirror_mode": {
    "name": "ipython",
    "version": 3
   },
   "file_extension": ".py",
   "mimetype": "text/x-python",
   "name": "python",
   "nbconvert_exporter": "python",
   "pygments_lexer": "ipython3",
   "version": "3.5.2"
  }
 },
 "nbformat": 4,
 "nbformat_minor": 1
}
